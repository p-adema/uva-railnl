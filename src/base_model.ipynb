{
 "cells": [
  {
   "cell_type": "code",
   "execution_count": null,
   "id": "cba76fb8cb604fa7",
   "metadata": {},
   "outputs": [],
   "source": [
    "import os\n",
    "\n",
    "import clean\n",
    "import matplotlib.pyplot as plt\n",
    "import numpy as np\n",
    "\n",
    "os.environ[\"KERAS_BACKEND\"] = \"jax\"\n",
    "import keras\n",
    "from keras import layers"
   ]
  },
  {
   "cell_type": "code",
   "execution_count": null,
   "id": "78d36565e1300f49",
   "metadata": {},
   "outputs": [],
   "source": [
    "splits = clean.get_base_splits()\n",
    "i_train, i_tune, i_test, t_train, t_tune, t_test = (\n",
    "    splits[part]\n",
    "    for part in [\"i_train\", \"i_tune\", \"i_test\", \"t_train\", \"t_tune\", \"t_test\"]\n",
    ")"
   ]
  },
  {
   "cell_type": "code",
   "execution_count": null,
   "id": "a8229f57b23c5ae6",
   "metadata": {},
   "outputs": [],
   "source": [
    "keras.utils.set_random_seed(42)\n",
    "\n",
    "input_norm = layers.Normalization(\n",
    "    axis=-1, mean=i_train.mean(axis=0), variance=i_train.var(axis=0)\n",
    ")\n",
    "output_denorm = layers.Normalization(\n",
    "    axis=-1,\n",
    "    invert=True,\n",
    "    mean=t_train.mean(axis=0),\n",
    "    variance=t_train.var(axis=0),\n",
    ")\n",
    "\n",
    "model = keras.Sequential(\n",
    "    [\n",
    "        layers.Input((4,), batch_size=50),\n",
    "        input_norm,\n",
    "        layers.Dense(4, activation=\"relu\", name=\"layer1\"),\n",
    "        layers.Dense(1, name=\"layer2\"),\n",
    "        output_denorm,\n",
    "    ]\n",
    ")\n",
    "\n",
    "model.compile(\n",
    "    optimizer=keras.optimizers.Adam(learning_rate=0.001),\n",
    "    loss=keras.losses.MeanSquaredError(),\n",
    "    metrics=[keras.losses.MeanAbsolutePercentageError()],\n",
    ")\n",
    "model.summary()"
   ]
  },
  {
   "cell_type": "code",
   "execution_count": null,
   "id": "ef9f75db6eb8ec86",
   "metadata": {
    "collapsed": false
   },
   "outputs": [],
   "source": [
    "keras.utils.set_random_seed(42)\n",
    "\n",
    "history = model.fit(\n",
    "    i_train,\n",
    "    t_train,\n",
    "    batch_size=500,\n",
    "    epochs=30,\n",
    "    validation_data=(i_tune, t_tune),\n",
    "    # callbacks=[keras.callbacks.EarlyStopping(restore_best_weights=True)],\n",
    ")"
   ]
  },
  {
   "cell_type": "code",
   "execution_count": null,
   "id": "76a459acfbd106b5",
   "metadata": {},
   "outputs": [],
   "source": [
    "model.save(\"../models/poc.keras\")"
   ]
  },
  {
   "cell_type": "code",
   "execution_count": null,
   "id": "46603fd49199a71a",
   "metadata": {},
   "outputs": [],
   "source": [
    "model = keras.models.load_model(\"../models/poc.keras\")"
   ]
  },
  {
   "cell_type": "code",
   "execution_count": null,
   "id": "b396954d0cac447b",
   "metadata": {
    "collapsed": false
   },
   "outputs": [],
   "source": [
    "x = range(1, 31)\n",
    "\n",
    "plt.plot(x, history.history[\"loss\"], color=\"red\", label=\"Training MSE\")\n",
    "\n",
    "plt.plot(x, history.history[\"val_loss\"], color=\"blue\", label=\"Validation MSE\")\n",
    "plt.legend()\n",
    "plt.title(\"Losses during training\")\n",
    "plt.xlabel(\"Epochs trained\")\n",
    "plt.ylabel(\"Error\")\n",
    "plt.ylim((0, 1000))\n",
    "plt.show()"
   ]
  },
  {
   "cell_type": "code",
   "execution_count": null,
   "id": "317c7506344e58c2",
   "metadata": {},
   "outputs": [],
   "source": [
    "# keras.utils.plot_model(model, show_shapes=True, show_layer_activations=True)"
   ]
  },
  {
   "cell_type": "code",
   "execution_count": null,
   "id": "9866279c6b273bc7",
   "metadata": {
    "collapsed": false
   },
   "outputs": [],
   "source": [
    "results = model.evaluate(i_test, t_test, batch_size=50)\n",
    "\n",
    "print(\"RMSE:\", np.sqrt(results[0]))"
   ]
  }
 ],
 "metadata": {
  "kernelspec": {
   "display_name": "Python 3",
   "language": "python",
   "name": "python3"
  },
  "language_info": {
   "codemirror_mode": {
    "name": "ipython",
    "version": 2
   },
   "file_extension": ".py",
   "mimetype": "text/x-python",
   "name": "python",
   "nbconvert_exporter": "python",
   "pygments_lexer": "ipython2",
   "version": "2.7.6"
  }
 },
 "nbformat": 4,
 "nbformat_minor": 5
}

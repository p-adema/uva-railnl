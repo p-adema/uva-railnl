{
 "cells": [
  {
   "metadata": {},
   "cell_type": "markdown",
   "source": [
    "The idea here is that nearby measurements are probably from the same train,\n",
    "and if we use unambiguous measurements (where it's clear they belong to one train) to start a trip,\n",
    "then we can estimate the speed and continue extending the trip in that direction to build a full trip.\n",
    "This is only useful for cases where we have RTM data but not MTPS data.\n",
    "\n",
    "This notebook only implements the first few steps, as after getting this far we received the MTPS data and worked on that instead. "
   ],
   "id": "752eb31d4b630fb9"
  },
  {
   "cell_type": "code",
   "execution_count": 14,
   "id": "5ff3ac62a045d18f",
   "metadata": {
    "ExecuteTime": {
     "end_time": "2024-06-12T10:44:41.618998Z",
     "start_time": "2024-06-12T10:44:41.616675Z"
    },
    "collapsed": false
   },
   "outputs": [],
   "source": [
    "import numpy as np\n",
    "import polars as pl"
   ]
  },
  {
   "cell_type": "code",
   "execution_count": 15,
   "id": "770cc0d5572fd071",
   "metadata": {
    "ExecuteTime": {
     "end_time": "2024-06-12T10:44:41.691936Z",
     "start_time": "2024-06-12T10:44:41.626170Z"
    }
   },
   "outputs": [],
   "source": [
    "df = pl.scan_parquet(\"../docs/rtm_sample_cleaned.pq\").collect()"
   ]
  },
  {
   "cell_type": "code",
   "execution_count": 16,
   "id": "bd5039bed4039d19",
   "metadata": {
    "ExecuteTime": {
     "end_time": "2024-06-12T10:44:41.941152Z",
     "start_time": "2024-06-12T10:44:41.693965Z"
    },
    "collapsed": false
   },
   "outputs": [],
   "source": [
    "df = (\n",
    "    pl.scan_parquet(\"../docs/rtm_sample_cleaned.pq\")\n",
    "    .with_columns(\n",
    "        pl.col(\"time\")\n",
    "        + pl.duration(nanoseconds=pl.lit(np.random.rand(df.height) * 1e9))\n",
    "    )\n",
    "    .sort(pl.col(\"time\"))\n",
    "    .with_row_index(\"id\")\n",
    "    .collect()\n",
    ")"
   ]
  },
  {
   "cell_type": "code",
   "execution_count": 19,
   "id": "a764812eeb201f5c",
   "metadata": {
    "ExecuteTime": {
     "end_time": "2024-06-12T10:44:41.954033Z",
     "start_time": "2024-06-12T10:44:41.949857Z"
    },
    "collapsed": false
   },
   "outputs": [],
   "source": [
    "calculate_distance = (\n",
    "    (pl.col(\"lat\").first().sub(pl.col(\"lat\").slice(1)).mul(111 * 1000).pow(2)).add(\n",
    "        (pl.col(\"lon\").first().sub(pl.col(\"lon\").slice(1)).mul(68 * 1000)).pow(2)\n",
    "    )\n",
    ").sqrt()"
   ]
  },
  {
   "cell_type": "code",
   "id": "1f9c8e406c10e380",
   "metadata": {},
   "source": [
    "df_link_1_naive: pl.DataFrame = (\n",
    "    df.lazy()\n",
    "    .head(5_000)\n",
    "    .rolling(\n",
    "        check_sorted=False,\n",
    "        index_column=\"time\",\n",
    "        period=\"20s\",\n",
    "        offset=\"0s\",\n",
    "        closed=\"left\",\n",
    "    )\n",
    "    .agg(\n",
    "        pl.col(\"id\").first(),\n",
    "        pl.col(\"id\").slice(1).filter(calculate_distance < 1000).alias(\"next_ids\"),\n",
    "    )\n",
    "    .collect(streaming=True)\n",
    ")"
   ],
   "outputs": [],
   "execution_count": null
  },
  {
   "cell_type": "code",
   "execution_count": 21,
   "id": "7660b0c9913e6664",
   "metadata": {
    "ExecuteTime": {
     "end_time": "2024-06-12T10:44:42.063128Z",
     "start_time": "2024-06-12T10:44:41.970373Z"
    },
    "jupyter": {
     "is_executing": true
    }
   },
   "outputs": [
    {
     "data": {
      "text/html": "<div><style>\n.dataframe > thead > tr,\n.dataframe > tbody > tr {\n  text-align: right;\n  white-space: pre-wrap;\n}\n</style>\n<small>shape: (5_000, 2)</small><table border=\"1\" class=\"dataframe\"><thead><tr><th>id</th><th>next_ids</th></tr><tr><td>u32</td><td>list[u32]</td></tr></thead><tbody><tr><td>0</td><td>[6, 11, … 47]</td></tr><tr><td>1</td><td>[8, 13, … 49]</td></tr><tr><td>2</td><td>[10, 15, … 51]</td></tr><tr><td>3</td><td>[11, 14, … 50]</td></tr><tr><td>4</td><td>[12, 16, … 52]</td></tr><tr><td>&hellip;</td><td>&hellip;</td></tr><tr><td>4995</td><td>[]</td></tr><tr><td>4996</td><td>[]</td></tr><tr><td>4997</td><td>[]</td></tr><tr><td>4998</td><td>[]</td></tr><tr><td>4999</td><td>[]</td></tr></tbody></table></div>",
      "text/plain": "shape: (5_000, 2)\n┌──────┬────────────────┐\n│ id   ┆ next_ids       │\n│ ---  ┆ ---            │\n│ u32  ┆ list[u32]      │\n╞══════╪════════════════╡\n│ 0    ┆ [6, 11, … 47]  │\n│ 1    ┆ [8, 13, … 49]  │\n│ 2    ┆ [10, 15, … 51] │\n│ 3    ┆ [11, 14, … 50] │\n│ 4    ┆ [12, 16, … 52] │\n│ …    ┆ …              │\n│ 4995 ┆ []             │\n│ 4996 ┆ []             │\n│ 4997 ┆ []             │\n│ 4998 ┆ []             │\n│ 4999 ┆ []             │\n└──────┴────────────────┘"
     },
     "execution_count": 21,
     "metadata": {},
     "output_type": "execute_result"
    }
   ],
   "source": [
    "vals = df_link_1_naive[\"next_ids\"]\n",
    "df_link_2_naive: pl.DataFrame = (\n",
    "    df_link_1_naive.lazy()\n",
    "    .select(\n",
    "        [\n",
    "            pl.col(\"id\"),\n",
    "            pl.col(\"next_ids\")\n",
    "            .map_elements(vals.gather, return_dtype=pl.List(pl.List(pl.UInt32)))\n",
    "            .list.eval(pl.element().flatten()),\n",
    "        ]\n",
    "    )\n",
    "    .collect(streaming=True)\n",
    ")\n",
    "df_link_2_naive"
   ]
  },
  {
   "cell_type": "code",
   "id": "4e30e0f9b0845081",
   "metadata": {
    "collapsed": false
   },
   "source": [
    "df_link_1_true = (\n",
    "    df.lazy()\n",
    "    .head(5000)\n",
    "    .with_columns(df_link_1_naive[\"next_ids\"], link_2=df_link_2_naive[\"next_ids\"])\n",
    "    .with_columns(link_1=pl.col(\"next_ids\").list.set_difference(\"link_2\"))\n",
    "    .drop([\"next_ids\", \"link_2\"])\n",
    "    .with_columns(\n",
    "        maybe_next=pl.when(pl.col(\"link_1\").list.len().eq(1)).then(\n",
    "            pl.col(\"link_1\").list.first()\n",
    "        )\n",
    "    )\n",
    "    .join(df.lazy(), left_on=\"maybe_next\", right_on=\"id\", suffix=\"_next\")\n",
    "    .collect()\n",
    ")"
   ],
   "outputs": [],
   "execution_count": null
  },
  {
   "cell_type": "code",
   "execution_count": 22,
   "id": "e6e3578d630824ee",
   "metadata": {
    "ExecuteTime": {
     "end_time": "2024-06-12T10:44:42.091127Z",
     "start_time": "2024-06-12T10:44:42.089656Z"
    },
    "collapsed": false
   },
   "outputs": [],
   "source": []
  }
 ],
 "metadata": {
  "kernelspec": {
   "display_name": "Python 3",
   "language": "python",
   "name": "python3"
  },
  "language_info": {
   "codemirror_mode": {
    "name": "ipython",
    "version": 2
   },
   "file_extension": ".py",
   "mimetype": "text/x-python",
   "name": "python",
   "nbconvert_exporter": "python",
   "pygments_lexer": "ipython2",
   "version": "2.7.6"
  }
 },
 "nbformat": 4,
 "nbformat_minor": 5
}

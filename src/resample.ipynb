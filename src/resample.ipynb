{
 "cells": [
  {
   "cell_type": "code",
   "execution_count": 1,
   "id": "cba76fb8cb604fa7",
   "metadata": {
    "ExecuteTime": {
     "end_time": "2024-06-25T05:30:11.532468Z",
     "start_time": "2024-06-25T05:30:10.322524Z"
    }
   },
   "outputs": [],
   "source": [
    "import os\n",
    "\n",
    "import clean\n",
    "import matplotlib.pyplot as plt\n",
    "import numpy as np\n",
    "import polars as pl\n",
    "\n",
    "os.environ[\"KERAS_BACKEND\"] = \"jax\"\n",
    "import keras\n",
    "from keras import layers"
   ]
  },
  {
   "cell_type": "code",
   "execution_count": 5,
   "id": "db8a46bbfb7f3584",
   "metadata": {
    "ExecuteTime": {
     "end_time": "2024-06-25T05:30:38.819080Z",
     "start_time": "2024-06-25T05:30:38.531434Z"
    }
   },
   "outputs": [
    {
     "data": {
      "text/html": [
       "<div><style>\n",
       ".dataframe > thead > tr,\n",
       ".dataframe > tbody > tr {\n",
       "  text-align: right;\n",
       "  white-space: pre-wrap;\n",
       "}\n",
       "</style>\n",
       "<small>shape: (6, 2)</small><table border=\"1\" class=\"dataframe\"><thead><tr><th>sensor_voltage</th><th>cum_total</th></tr><tr><td>f64</td><td>u32</td></tr></thead><tbody><tr><td>133.0</td><td>745</td></tr><tr><td>134.0</td><td>703</td></tr><tr><td>137.0</td><td>658</td></tr><tr><td>142.0</td><td>535</td></tr><tr><td>148.0</td><td>525</td></tr><tr><td>153.0</td><td>440</td></tr></tbody></table></div>"
      ],
      "text/plain": [
       "shape: (6, 2)\n",
       "┌────────────────┬───────────┐\n",
       "│ sensor_voltage ┆ cum_total │\n",
       "│ ---            ┆ ---       │\n",
       "│ f64            ┆ u32       │\n",
       "╞════════════════╪═══════════╡\n",
       "│ 133.0          ┆ 745       │\n",
       "│ 134.0          ┆ 703       │\n",
       "│ 137.0          ┆ 658       │\n",
       "│ 142.0          ┆ 535       │\n",
       "│ 148.0          ┆ 525       │\n",
       "│ 153.0          ┆ 440       │\n",
       "└────────────────┴───────────┘"
      ]
     },
     "execution_count": 5,
     "metadata": {},
     "output_type": "execute_result"
    }
   ],
   "source": [
    "pl.scan_parquet(clean.data_dir(\"samples/simple_joined.pq\")).with_row_index().group_by(\n",
    "    pl.col(\"sensor_voltage\").round()\n",
    ").agg(pl.col(\"index\").count()).sort(\"sensor_voltage\").with_columns(\n",
    "    cum_total=pl.col(\"index\").cum_sum(reverse=True)\n",
    ").drop(\"index\").collect()[137:143]"
   ]
  },
  {
   "cell_type": "code",
   "execution_count": 6,
   "id": "7cdf1bde5ff6b698",
   "metadata": {
    "ExecuteTime": {
     "end_time": "2024-06-25T05:30:43.950744Z",
     "start_time": "2024-06-25T05:30:42.940641Z"
    }
   },
   "outputs": [],
   "source": [
    "resampled: pl.DataFrame = (\n",
    "    pl.read_parquet(clean.data_dir(\"samples/simple_joined.pq\"))\n",
    "    .sample(fraction=1, shuffle=True, seed=1)\n",
    "    .lazy()\n",
    "    .with_columns(grp=pl.col(\"sensor_voltage\").cut([30, 100, 140]))\n",
    "    .with_row_index()\n",
    "    .with_columns(grp_id=pl.col(\"index\").rle_id().over(\"grp\"))\n",
    "    .filter(pl.col(\"grp_id\").lt(535))\n",
    "    .drop(\"grp\", \"index\", \"grp_id\")\n",
    "    .collect()\n",
    ")"
   ]
  },
  {
   "cell_type": "code",
   "execution_count": 7,
   "id": "81ca8d98bb8d1288",
   "metadata": {
    "ExecuteTime": {
     "end_time": "2024-06-25T05:30:46.140279Z",
     "start_time": "2024-06-25T05:30:46.120745Z"
    }
   },
   "outputs": [
    {
     "data": {
      "text/html": [
       "<div><style>\n",
       ".dataframe > thead > tr,\n",
       ".dataframe > tbody > tr {\n",
       "  text-align: right;\n",
       "  white-space: pre-wrap;\n",
       "}\n",
       "</style>\n",
       "<small>shape: (4, 2)</small><table border=\"1\" class=\"dataframe\"><thead><tr><th>sensor_voltage</th><th>count</th></tr><tr><td>cat</td><td>u32</td></tr></thead><tbody><tr><td>&quot;(-inf, 30]&quot;</td><td>535</td></tr><tr><td>&quot;(30, 100]&quot;</td><td>535</td></tr><tr><td>&quot;(100, 140]&quot;</td><td>535</td></tr><tr><td>&quot;(140, inf]&quot;</td><td>535</td></tr></tbody></table></div>"
      ],
      "text/plain": [
       "shape: (4, 2)\n",
       "┌────────────────┬───────┐\n",
       "│ sensor_voltage ┆ count │\n",
       "│ ---            ┆ ---   │\n",
       "│ cat            ┆ u32   │\n",
       "╞════════════════╪═══════╡\n",
       "│ (-inf, 30]     ┆ 535   │\n",
       "│ (30, 100]      ┆ 535   │\n",
       "│ (100, 140]     ┆ 535   │\n",
       "│ (140, inf]     ┆ 535   │\n",
       "└────────────────┴───────┘"
      ]
     },
     "execution_count": 7,
     "metadata": {},
     "output_type": "execute_result"
    }
   ],
   "source": [
    "resampled.sample(fraction=1, shuffle=True, seed=1).write_parquet(\n",
    "    clean.data_dir(\"samples/simple_resampled.pq\")\n",
    ")\n",
    "clean.split_data(\"simple_resampled.pq\")\n",
    "resampled.lazy().select(\n",
    "    pl.col(\"sensor_voltage\").cut([30, 100, 140]).value_counts()\n",
    ").unnest(\"sensor_voltage\").collect()"
   ]
  },
  {
   "cell_type": "code",
   "execution_count": 9,
   "id": "78d36565e1300f49",
   "metadata": {
    "ExecuteTime": {
     "end_time": "2024-06-25T05:31:21.916069Z",
     "start_time": "2024-06-25T05:31:21.907265Z"
    }
   },
   "outputs": [],
   "source": [
    "splits = np.load(clean.data_dir(\"samples/simple_resampled_splits.npz\"))\n",
    "i_train, i_tune, i_test, t_train, t_tune, t_test = (\n",
    "    splits[part]\n",
    "    for part in [\"i_train\", \"i_tune\", \"i_test\", \"t_train\", \"t_tune\", \"t_test\"]\n",
    ")"
   ]
  },
  {
   "cell_type": "code",
   "id": "d94a2eb650029378",
   "metadata": {
    "collapsed": false,
    "ExecuteTime": {
     "end_time": "2024-06-25T05:37:29.112819Z",
     "start_time": "2024-06-25T05:37:28.474056Z"
    }
   },
   "source": [
    "keras.utils.set_random_seed(42)\n",
    "\n",
    "input_norm = layers.Normalization(\n",
    "    axis=-1, mean=i_train.mean(axis=0), variance=i_train.var(axis=0)\n",
    ")\n",
    "output_denorm = layers.Normalization(\n",
    "    axis=-1,\n",
    "    invert=True,\n",
    "    mean=t_train.mean(axis=0),\n",
    "    variance=t_train.var(axis=0),\n",
    ")\n",
    "\n",
    "model = keras.Sequential(\n",
    "    [\n",
    "        layers.Input((4,), batch_size=50),\n",
    "        input_norm,\n",
    "        layers.Dense(40, activation=\"relu\", name=\"layer1\"),\n",
    "        layers.Dense(100, activation=\"relu\", name=\"layer2\"),\n",
    "        layers.Dense(10, activation=\"relu\", name=\"layer3\"),\n",
    "        layers.Dense(1, name=\"out\"),\n",
    "        output_denorm,\n",
    "    ]\n",
    ")\n",
    "\n",
    "model.compile(\n",
    "    optimizer=keras.optimizers.Adam(learning_rate=0.001),\n",
    "    loss=keras.losses.MeanSquaredError(),\n",
    "    metrics=[keras.losses.MeanAbsolutePercentageError()],\n",
    ")\n",
    "model.summary()"
   ],
   "outputs": [
    {
     "data": {
      "text/plain": [
       "\u001B[1mModel: \"sequential_3\"\u001B[0m\n"
      ],
      "text/html": [
       "<pre style=\"white-space:pre;overflow-x:auto;line-height:normal;font-family:Menlo,'DejaVu Sans Mono',consolas,'Courier New',monospace\"><span style=\"font-weight: bold\">Model: \"sequential_3\"</span>\n",
       "</pre>\n"
      ]
     },
     "metadata": {},
     "output_type": "display_data"
    },
    {
     "data": {
      "text/plain": [
       "┏━━━━━━━━━━━━━━━━━━━━━━━━━━━━━━━━━┳━━━━━━━━━━━━━━━━━━━━━━━━┳━━━━━━━━━━━━━━━┓\n",
       "┃\u001B[1m \u001B[0m\u001B[1mLayer (type)                   \u001B[0m\u001B[1m \u001B[0m┃\u001B[1m \u001B[0m\u001B[1mOutput Shape          \u001B[0m\u001B[1m \u001B[0m┃\u001B[1m \u001B[0m\u001B[1m      Param #\u001B[0m\u001B[1m \u001B[0m┃\n",
       "┡━━━━━━━━━━━━━━━━━━━━━━━━━━━━━━━━━╇━━━━━━━━━━━━━━━━━━━━━━━━╇━━━━━━━━━━━━━━━┩\n",
       "│ normalization_6 (\u001B[38;5;33mNormalization\u001B[0m) │ (\u001B[38;5;34m50\u001B[0m, \u001B[38;5;34m4\u001B[0m)                │             \u001B[38;5;34m0\u001B[0m │\n",
       "├─────────────────────────────────┼────────────────────────┼───────────────┤\n",
       "│ layer1 (\u001B[38;5;33mDense\u001B[0m)                  │ (\u001B[38;5;34m50\u001B[0m, \u001B[38;5;34m40\u001B[0m)               │           \u001B[38;5;34m200\u001B[0m │\n",
       "├─────────────────────────────────┼────────────────────────┼───────────────┤\n",
       "│ layer2 (\u001B[38;5;33mDense\u001B[0m)                  │ (\u001B[38;5;34m50\u001B[0m, \u001B[38;5;34m100\u001B[0m)              │         \u001B[38;5;34m4,100\u001B[0m │\n",
       "├─────────────────────────────────┼────────────────────────┼───────────────┤\n",
       "│ layer3 (\u001B[38;5;33mDense\u001B[0m)                  │ (\u001B[38;5;34m50\u001B[0m, \u001B[38;5;34m10\u001B[0m)               │         \u001B[38;5;34m1,010\u001B[0m │\n",
       "├─────────────────────────────────┼────────────────────────┼───────────────┤\n",
       "│ out (\u001B[38;5;33mDense\u001B[0m)                     │ (\u001B[38;5;34m50\u001B[0m, \u001B[38;5;34m1\u001B[0m)                │            \u001B[38;5;34m11\u001B[0m │\n",
       "├─────────────────────────────────┼────────────────────────┼───────────────┤\n",
       "│ normalization_7 (\u001B[38;5;33mNormalization\u001B[0m) │ (\u001B[38;5;34m50\u001B[0m, \u001B[38;5;34m1\u001B[0m)                │             \u001B[38;5;34m0\u001B[0m │\n",
       "└─────────────────────────────────┴────────────────────────┴───────────────┘\n"
      ],
      "text/html": [
       "<pre style=\"white-space:pre;overflow-x:auto;line-height:normal;font-family:Menlo,'DejaVu Sans Mono',consolas,'Courier New',monospace\">┏━━━━━━━━━━━━━━━━━━━━━━━━━━━━━━━━━┳━━━━━━━━━━━━━━━━━━━━━━━━┳━━━━━━━━━━━━━━━┓\n",
       "┃<span style=\"font-weight: bold\"> Layer (type)                    </span>┃<span style=\"font-weight: bold\"> Output Shape           </span>┃<span style=\"font-weight: bold\">       Param # </span>┃\n",
       "┡━━━━━━━━━━━━━━━━━━━━━━━━━━━━━━━━━╇━━━━━━━━━━━━━━━━━━━━━━━━╇━━━━━━━━━━━━━━━┩\n",
       "│ normalization_6 (<span style=\"color: #0087ff; text-decoration-color: #0087ff\">Normalization</span>) │ (<span style=\"color: #00af00; text-decoration-color: #00af00\">50</span>, <span style=\"color: #00af00; text-decoration-color: #00af00\">4</span>)                │             <span style=\"color: #00af00; text-decoration-color: #00af00\">0</span> │\n",
       "├─────────────────────────────────┼────────────────────────┼───────────────┤\n",
       "│ layer1 (<span style=\"color: #0087ff; text-decoration-color: #0087ff\">Dense</span>)                  │ (<span style=\"color: #00af00; text-decoration-color: #00af00\">50</span>, <span style=\"color: #00af00; text-decoration-color: #00af00\">40</span>)               │           <span style=\"color: #00af00; text-decoration-color: #00af00\">200</span> │\n",
       "├─────────────────────────────────┼────────────────────────┼───────────────┤\n",
       "│ layer2 (<span style=\"color: #0087ff; text-decoration-color: #0087ff\">Dense</span>)                  │ (<span style=\"color: #00af00; text-decoration-color: #00af00\">50</span>, <span style=\"color: #00af00; text-decoration-color: #00af00\">100</span>)              │         <span style=\"color: #00af00; text-decoration-color: #00af00\">4,100</span> │\n",
       "├─────────────────────────────────┼────────────────────────┼───────────────┤\n",
       "│ layer3 (<span style=\"color: #0087ff; text-decoration-color: #0087ff\">Dense</span>)                  │ (<span style=\"color: #00af00; text-decoration-color: #00af00\">50</span>, <span style=\"color: #00af00; text-decoration-color: #00af00\">10</span>)               │         <span style=\"color: #00af00; text-decoration-color: #00af00\">1,010</span> │\n",
       "├─────────────────────────────────┼────────────────────────┼───────────────┤\n",
       "│ out (<span style=\"color: #0087ff; text-decoration-color: #0087ff\">Dense</span>)                     │ (<span style=\"color: #00af00; text-decoration-color: #00af00\">50</span>, <span style=\"color: #00af00; text-decoration-color: #00af00\">1</span>)                │            <span style=\"color: #00af00; text-decoration-color: #00af00\">11</span> │\n",
       "├─────────────────────────────────┼────────────────────────┼───────────────┤\n",
       "│ normalization_7 (<span style=\"color: #0087ff; text-decoration-color: #0087ff\">Normalization</span>) │ (<span style=\"color: #00af00; text-decoration-color: #00af00\">50</span>, <span style=\"color: #00af00; text-decoration-color: #00af00\">1</span>)                │             <span style=\"color: #00af00; text-decoration-color: #00af00\">0</span> │\n",
       "└─────────────────────────────────┴────────────────────────┴───────────────┘\n",
       "</pre>\n"
      ]
     },
     "metadata": {},
     "output_type": "display_data"
    },
    {
     "data": {
      "text/plain": [
       "\u001B[1m Total params: \u001B[0m\u001B[38;5;34m5,321\u001B[0m (20.79 KB)\n"
      ],
      "text/html": [
       "<pre style=\"white-space:pre;overflow-x:auto;line-height:normal;font-family:Menlo,'DejaVu Sans Mono',consolas,'Courier New',monospace\"><span style=\"font-weight: bold\"> Total params: </span><span style=\"color: #00af00; text-decoration-color: #00af00\">5,321</span> (20.79 KB)\n",
       "</pre>\n"
      ]
     },
     "metadata": {},
     "output_type": "display_data"
    },
    {
     "data": {
      "text/plain": [
       "\u001B[1m Trainable params: \u001B[0m\u001B[38;5;34m5,321\u001B[0m (20.79 KB)\n"
      ],
      "text/html": [
       "<pre style=\"white-space:pre;overflow-x:auto;line-height:normal;font-family:Menlo,'DejaVu Sans Mono',consolas,'Courier New',monospace\"><span style=\"font-weight: bold\"> Trainable params: </span><span style=\"color: #00af00; text-decoration-color: #00af00\">5,321</span> (20.79 KB)\n",
       "</pre>\n"
      ]
     },
     "metadata": {},
     "output_type": "display_data"
    },
    {
     "data": {
      "text/plain": [
       "\u001B[1m Non-trainable params: \u001B[0m\u001B[38;5;34m0\u001B[0m (0.00 B)\n"
      ],
      "text/html": [
       "<pre style=\"white-space:pre;overflow-x:auto;line-height:normal;font-family:Menlo,'DejaVu Sans Mono',consolas,'Courier New',monospace\"><span style=\"font-weight: bold\"> Non-trainable params: </span><span style=\"color: #00af00; text-decoration-color: #00af00\">0</span> (0.00 B)\n",
       "</pre>\n"
      ]
     },
     "metadata": {},
     "output_type": "display_data"
    }
   ],
   "execution_count": 24
  },
  {
   "cell_type": "code",
   "id": "ef9f75db6eb8ec86",
   "metadata": {
    "collapsed": false,
    "ExecuteTime": {
     "end_time": "2024-06-25T05:37:43.311846Z",
     "start_time": "2024-06-25T05:37:41.891425Z"
    }
   },
   "source": [
    "keras.utils.set_random_seed(42)\n",
    "\n",
    "history = model.fit(\n",
    "    i_train,\n",
    "    t_train,\n",
    "    batch_size=500,\n",
    "    epochs=30,\n",
    "    validation_data=(i_tune, t_tune),\n",
    "    # callbacks=[keras.callbacks.EarlyStopping(restore_best_weights=True)],\n",
    ")"
   ],
   "outputs": [
    {
     "name": "stdout",
     "output_type": "stream",
     "text": [
      "Epoch 1/30\n",
      "\u001B[1m3/3\u001B[0m \u001B[32m━━━━━━━━━━━━━━━━━━━━\u001B[0m\u001B[37m\u001B[0m \u001B[1m1s\u001B[0m 274ms/step - loss: 3467.8474 - mean_absolute_percentage_error: 1251.2092 - val_loss: 3435.1277 - val_mean_absolute_percentage_error: 948.1033\n",
      "Epoch 2/30\n",
      "\u001B[1m3/3\u001B[0m \u001B[32m━━━━━━━━━━━━━━━━━━━━\u001B[0m\u001B[37m\u001B[0m \u001B[1m0s\u001B[0m 3ms/step - loss: 3335.5005 - mean_absolute_percentage_error: 1229.2664 - val_loss: 3422.6643 - val_mean_absolute_percentage_error: 954.5095\n",
      "Epoch 3/30\n",
      "\u001B[1m3/3\u001B[0m \u001B[32m━━━━━━━━━━━━━━━━━━━━\u001B[0m\u001B[37m\u001B[0m \u001B[1m0s\u001B[0m 3ms/step - loss: 3247.8162 - mean_absolute_percentage_error: 1227.8274 - val_loss: 3461.8293 - val_mean_absolute_percentage_error: 950.7597\n",
      "Epoch 4/30\n",
      "\u001B[1m3/3\u001B[0m \u001B[32m━━━━━━━━━━━━━━━━━━━━\u001B[0m\u001B[37m\u001B[0m \u001B[1m0s\u001B[0m 3ms/step - loss: 3280.4351 - mean_absolute_percentage_error: 1307.5574 - val_loss: 3396.0715 - val_mean_absolute_percentage_error: 939.8527\n",
      "Epoch 5/30\n",
      "\u001B[1m3/3\u001B[0m \u001B[32m━━━━━━━━━━━━━━━━━━━━\u001B[0m\u001B[37m\u001B[0m \u001B[1m0s\u001B[0m 3ms/step - loss: 3193.9873 - mean_absolute_percentage_error: 1201.4856 - val_loss: 3351.2480 - val_mean_absolute_percentage_error: 930.9653\n",
      "Epoch 6/30\n",
      "\u001B[1m3/3\u001B[0m \u001B[32m━━━━━━━━━━━━━━━━━━━━\u001B[0m\u001B[37m\u001B[0m \u001B[1m0s\u001B[0m 3ms/step - loss: 3157.4685 - mean_absolute_percentage_error: 1229.6039 - val_loss: 3313.2996 - val_mean_absolute_percentage_error: 923.0527\n",
      "Epoch 7/30\n",
      "\u001B[1m3/3\u001B[0m \u001B[32m━━━━━━━━━━━━━━━━━━━━\u001B[0m\u001B[37m\u001B[0m \u001B[1m0s\u001B[0m 3ms/step - loss: 3164.5264 - mean_absolute_percentage_error: 1232.0269 - val_loss: 3279.0549 - val_mean_absolute_percentage_error: 915.8857\n",
      "Epoch 8/30\n",
      "\u001B[1m3/3\u001B[0m \u001B[32m━━━━━━━━━━━━━━━━━━━━\u001B[0m\u001B[37m\u001B[0m \u001B[1m0s\u001B[0m 3ms/step - loss: 3168.2148 - mean_absolute_percentage_error: 1226.1393 - val_loss: 3242.1282 - val_mean_absolute_percentage_error: 908.0985\n",
      "Epoch 9/30\n",
      "\u001B[1m3/3\u001B[0m \u001B[32m━━━━━━━━━━━━━━━━━━━━\u001B[0m\u001B[37m\u001B[0m \u001B[1m0s\u001B[0m 3ms/step - loss: 3110.3525 - mean_absolute_percentage_error: 1243.4249 - val_loss: 3216.9438 - val_mean_absolute_percentage_error: 896.7041\n",
      "Epoch 10/30\n",
      "\u001B[1m3/3\u001B[0m \u001B[32m━━━━━━━━━━━━━━━━━━━━\u001B[0m\u001B[37m\u001B[0m \u001B[1m0s\u001B[0m 3ms/step - loss: 3094.1133 - mean_absolute_percentage_error: 1224.0116 - val_loss: 3182.9314 - val_mean_absolute_percentage_error: 878.8381\n",
      "Epoch 11/30\n",
      "\u001B[1m3/3\u001B[0m \u001B[32m━━━━━━━━━━━━━━━━━━━━\u001B[0m\u001B[37m\u001B[0m \u001B[1m0s\u001B[0m 3ms/step - loss: 3011.9829 - mean_absolute_percentage_error: 1127.4260 - val_loss: 3143.9766 - val_mean_absolute_percentage_error: 852.8546\n",
      "Epoch 12/30\n",
      "\u001B[1m3/3\u001B[0m \u001B[32m━━━━━━━━━━━━━━━━━━━━\u001B[0m\u001B[37m\u001B[0m \u001B[1m0s\u001B[0m 3ms/step - loss: 3007.5342 - mean_absolute_percentage_error: 1104.1145 - val_loss: 3115.5615 - val_mean_absolute_percentage_error: 821.9543\n",
      "Epoch 13/30\n",
      "\u001B[1m3/3\u001B[0m \u001B[32m━━━━━━━━━━━━━━━━━━━━\u001B[0m\u001B[37m\u001B[0m \u001B[1m0s\u001B[0m 3ms/step - loss: 2972.5127 - mean_absolute_percentage_error: 1095.8936 - val_loss: 3093.1665 - val_mean_absolute_percentage_error: 795.5098\n",
      "Epoch 14/30\n",
      "\u001B[1m3/3\u001B[0m \u001B[32m━━━━━━━━━━━━━━━━━━━━\u001B[0m\u001B[37m\u001B[0m \u001B[1m0s\u001B[0m 3ms/step - loss: 2964.1187 - mean_absolute_percentage_error: 1098.1600 - val_loss: 3068.3645 - val_mean_absolute_percentage_error: 776.6353\n",
      "Epoch 15/30\n",
      "\u001B[1m3/3\u001B[0m \u001B[32m━━━━━━━━━━━━━━━━━━━━\u001B[0m\u001B[37m\u001B[0m \u001B[1m0s\u001B[0m 3ms/step - loss: 2928.2310 - mean_absolute_percentage_error: 995.8652 - val_loss: 3028.3469 - val_mean_absolute_percentage_error: 761.0212\n",
      "Epoch 16/30\n",
      "\u001B[1m3/3\u001B[0m \u001B[32m━━━━━━━━━━━━━━━━━━━━\u001B[0m\u001B[37m\u001B[0m \u001B[1m0s\u001B[0m 3ms/step - loss: 2895.0557 - mean_absolute_percentage_error: 1002.4675 - val_loss: 2987.9385 - val_mean_absolute_percentage_error: 752.3931\n",
      "Epoch 17/30\n",
      "\u001B[1m3/3\u001B[0m \u001B[32m━━━━━━━━━━━━━━━━━━━━\u001B[0m\u001B[37m\u001B[0m \u001B[1m0s\u001B[0m 3ms/step - loss: 2878.7061 - mean_absolute_percentage_error: 996.3636 - val_loss: 2963.7322 - val_mean_absolute_percentage_error: 752.8748\n",
      "Epoch 18/30\n",
      "\u001B[1m3/3\u001B[0m \u001B[32m━━━━━━━━━━━━━━━━━━━━\u001B[0m\u001B[37m\u001B[0m \u001B[1m0s\u001B[0m 3ms/step - loss: 2870.7517 - mean_absolute_percentage_error: 970.0434 - val_loss: 2939.4424 - val_mean_absolute_percentage_error: 755.4572\n",
      "Epoch 19/30\n",
      "\u001B[1m3/3\u001B[0m \u001B[32m━━━━━━━━━━━━━━━━━━━━\u001B[0m\u001B[37m\u001B[0m \u001B[1m0s\u001B[0m 3ms/step - loss: 2855.1848 - mean_absolute_percentage_error: 1003.6758 - val_loss: 2924.0483 - val_mean_absolute_percentage_error: 761.2305\n",
      "Epoch 20/30\n",
      "\u001B[1m3/3\u001B[0m \u001B[32m━━━━━━━━━━━━━━━━━━━━\u001B[0m\u001B[37m\u001B[0m \u001B[1m0s\u001B[0m 3ms/step - loss: 2862.5503 - mean_absolute_percentage_error: 975.3560 - val_loss: 2917.7485 - val_mean_absolute_percentage_error: 763.7979\n",
      "Epoch 21/30\n",
      "\u001B[1m3/3\u001B[0m \u001B[32m━━━━━━━━━━━━━━━━━━━━\u001B[0m\u001B[37m\u001B[0m \u001B[1m0s\u001B[0m 3ms/step - loss: 2804.0908 - mean_absolute_percentage_error: 1001.4223 - val_loss: 2904.5881 - val_mean_absolute_percentage_error: 757.8636\n",
      "Epoch 22/30\n",
      "\u001B[1m3/3\u001B[0m \u001B[32m━━━━━━━━━━━━━━━━━━━━\u001B[0m\u001B[37m\u001B[0m \u001B[1m0s\u001B[0m 4ms/step - loss: 2787.8550 - mean_absolute_percentage_error: 1000.8344 - val_loss: 2882.1697 - val_mean_absolute_percentage_error: 752.5481\n",
      "Epoch 23/30\n",
      "\u001B[1m3/3\u001B[0m \u001B[32m━━━━━━━━━━━━━━━━━━━━\u001B[0m\u001B[37m\u001B[0m \u001B[1m0s\u001B[0m 3ms/step - loss: 2831.4377 - mean_absolute_percentage_error: 1011.0156 - val_loss: 2867.7849 - val_mean_absolute_percentage_error: 743.5349\n",
      "Epoch 24/30\n",
      "\u001B[1m3/3\u001B[0m \u001B[32m━━━━━━━━━━━━━━━━━━━━\u001B[0m\u001B[37m\u001B[0m \u001B[1m0s\u001B[0m 3ms/step - loss: 2873.7349 - mean_absolute_percentage_error: 984.3083 - val_loss: 2851.1636 - val_mean_absolute_percentage_error: 743.4719\n",
      "Epoch 25/30\n",
      "\u001B[1m3/3\u001B[0m \u001B[32m━━━━━━━━━━━━━━━━━━━━\u001B[0m\u001B[37m\u001B[0m \u001B[1m0s\u001B[0m 3ms/step - loss: 2773.8875 - mean_absolute_percentage_error: 1020.2605 - val_loss: 2838.1865 - val_mean_absolute_percentage_error: 741.2546\n",
      "Epoch 26/30\n",
      "\u001B[1m3/3\u001B[0m \u001B[32m━━━━━━━━━━━━━━━━━━━━\u001B[0m\u001B[37m\u001B[0m \u001B[1m0s\u001B[0m 4ms/step - loss: 2839.0610 - mean_absolute_percentage_error: 1013.4668 - val_loss: 2826.4138 - val_mean_absolute_percentage_error: 747.4101\n",
      "Epoch 27/30\n",
      "\u001B[1m3/3\u001B[0m \u001B[32m━━━━━━━━━━━━━━━━━━━━\u001B[0m\u001B[37m\u001B[0m \u001B[1m0s\u001B[0m 4ms/step - loss: 2788.3633 - mean_absolute_percentage_error: 961.0210 - val_loss: 2812.6008 - val_mean_absolute_percentage_error: 744.7703\n",
      "Epoch 28/30\n",
      "\u001B[1m3/3\u001B[0m \u001B[32m━━━━━━━━━━━━━━━━━━━━\u001B[0m\u001B[37m\u001B[0m \u001B[1m0s\u001B[0m 4ms/step - loss: 2767.7893 - mean_absolute_percentage_error: 980.8963 - val_loss: 2808.0476 - val_mean_absolute_percentage_error: 742.1978\n",
      "Epoch 29/30\n",
      "\u001B[1m3/3\u001B[0m \u001B[32m━━━━━━━━━━━━━━━━━━━━\u001B[0m\u001B[37m\u001B[0m \u001B[1m0s\u001B[0m 4ms/step - loss: 2723.5591 - mean_absolute_percentage_error: 993.8871 - val_loss: 2801.4851 - val_mean_absolute_percentage_error: 740.0256\n",
      "Epoch 30/30\n",
      "\u001B[1m3/3\u001B[0m \u001B[32m━━━━━━━━━━━━━━━━━━━━\u001B[0m\u001B[37m\u001B[0m \u001B[1m0s\u001B[0m 4ms/step - loss: 2751.2788 - mean_absolute_percentage_error: 975.9904 - val_loss: 2794.2759 - val_mean_absolute_percentage_error: 736.2416\n"
     ]
    }
   ],
   "execution_count": 25
  },
  {
   "cell_type": "code",
   "execution_count": 5,
   "id": "76a459acfbd106b5",
   "metadata": {
    "ExecuteTime": {
     "end_time": "2024-06-15T09:43:45.653429Z",
     "start_time": "2024-06-15T09:43:45.644204Z"
    }
   },
   "outputs": [],
   "source": [
    "model.save(\"../models/poc.keras\")"
   ]
  },
  {
   "cell_type": "code",
   "execution_count": 6,
   "id": "46603fd49199a71a",
   "metadata": {
    "ExecuteTime": {
     "end_time": "2024-06-15T09:43:45.697960Z",
     "start_time": "2024-06-15T09:43:45.654104Z"
    }
   },
   "outputs": [],
   "source": [
    "model = keras.models.load_model(\"../models/poc.keras\")"
   ]
  },
  {
   "cell_type": "code",
   "id": "b396954d0cac447b",
   "metadata": {
    "collapsed": false,
    "ExecuteTime": {
     "end_time": "2024-06-25T05:37:52.150732Z",
     "start_time": "2024-06-25T05:37:51.936296Z"
    }
   },
   "source": [
    "x = range(1, 31)\n",
    "\n",
    "plt.plot(x, history.history[\"loss\"], color=\"red\", label=\"Training MSE\")\n",
    "\n",
    "plt.plot(x, history.history[\"val_loss\"], color=\"blue\", label=\"Validation MSE\")\n",
    "plt.legend()\n",
    "plt.title(\"Losses during training\")\n",
    "plt.xlabel(\"Epochs trained\")\n",
    "plt.ylabel(\"Error\")\n",
    "plt.ylim((0, None))\n",
    "plt.show()"
   ],
   "outputs": [
    {
     "data": {
      "text/plain": [
       "<Figure size 640x480 with 1 Axes>"
      ],
      "image/png": "[encoded data removed]"
     },
     "metadata": {},
     "output_type": "display_data"
    }
   ],
   "execution_count": 26
  },
  {
   "cell_type": "code",
   "execution_count": 8,
   "id": "317c7506344e58c2",
   "metadata": {
    "ExecuteTime": {
     "end_time": "2024-06-15T09:43:45.766999Z",
     "start_time": "2024-06-15T09:43:45.765227Z"
    }
   },
   "outputs": [],
   "source": [
    "# keras.utils.plot_model(model, show_shapes=True, show_layer_activations=True)"
   ]
  },
  {
   "cell_type": "code",
   "id": "86b8fc18d492a22d",
   "metadata": {
    "ExecuteTime": {
     "end_time": "2024-06-25T05:37:56.039355Z",
     "start_time": "2024-06-25T05:37:55.738780Z"
    }
   },
   "source": [
    "(\n",
    "    pl.DataFrame(\n",
    "        {\"Predicted\": np.array(model(i_test).flatten()), \"Actual (resampled)\": t_test}\n",
    "    )\n",
    "    .lazy()\n",
    "    .melt(value_name=\"Voltage\", variable_name=\"Distribution\")\n",
    "    .with_row_index()\n",
    "    .group_by(\"Distribution\", pl.col(\"Voltage\").round())\n",
    "    .agg(Frequency=pl.col(\"index\").count())\n",
    "    .sort(\"Voltage\")\n",
    "    .collect()\n",
    "    .plot.line(\n",
    "        x=\"Voltage\",\n",
    "        y=\"Frequency\",\n",
    "        by=\"Distribution\",\n",
    "        title=\"Resampled distribution results\",\n",
    "    )\n",
    ")"
   ],
   "outputs": [
    {
     "data": {},
     "metadata": {},
     "output_type": "display_data"
    },
    {
     "data": {
      "text/html": [
       "<div id='p1256'>\n",
       "  <div id=\"bd040b4a-ecfd-43d0-ad64-75cdc28a11f4\" data-root-id=\"p1256\" style=\"display: contents;\"></div>\n",
       "</div>\n",
       "<script type=\"application/javascript\">(function(root) {\n",
       "  var docs_json = {\"bfc47828-5d02-4773-9edf-1e92c46ba4f0\":{\"version\":\"3.4.1\",\"title\":\"Bokeh Application\",\"roots\":[{\"type\":\"object\",\"name\":\"Row\",\"id\":\"p1256\",\"attributes\":{\"name\":\"Row01451\",\"tags\":[\"embedded\"],\"stylesheets\":[\"\\n:host(.pn-loading):before, .pn-loading:before {\\n  background-color: #c3c3c3;\\n  mask-size: auto calc(min(50%, 400px));\\n  -webkit-mask-size: auto calc(min(50%, 400px));\\n}\",{\"type\":\"object\",\"name\":\"ImportedStyleSheet\",\"id\":\"p1259\",\"attributes\":{\"url\":\"https://cdn.holoviz.org/panel/1.4.4/dist/css/loading.css\"}},{\"type\":\"object\",\"name\":\"ImportedStyleSheet\",\"id\":\"p1334\",\"attributes\":{\"url\":\"https://cdn.holoviz.org/panel/1.4.4/dist/css/listpanel.css\"}},{\"type\":\"object\",\"name\":\"ImportedStyleSheet\",\"id\":\"p1257\",\"attributes\":{\"url\":\"https://cdn.holoviz.org/panel/1.4.4/dist/bundled/theme/default.css\"}},{\"type\":\"object\",\"name\":\"ImportedStyleSheet\",\"id\":\"p1258\",\"attributes\":{\"url\":\"https://cdn.holoviz.org/panel/1.4.4/dist/bundled/theme/native.css\"}}],\"min_width\":700,\"margin\":0,\"sizing_mode\":\"stretch_width\",\"align\":\"start\",\"children\":[{\"type\":\"object\",\"name\":\"Spacer\",\"id\":\"p1260\",\"attributes\":{\"name\":\"HSpacer01458\",\"stylesheets\":[\"\\n:host(.pn-loading):before, .pn-loading:before {\\n  background-color: #c3c3c3;\\n  mask-size: auto calc(min(50%, 400px));\\n  -webkit-mask-size: auto calc(min(50%, 400px));\\n}\",{\"id\":\"p1259\"},{\"id\":\"p1257\"},{\"id\":\"p1258\"}],\"margin\":0,\"sizing_mode\":\"stretch_width\",\"align\":\"start\"}},{\"type\":\"object\",\"name\":\"Figure\",\"id\":\"p1271\",\"attributes\":{\"width\":700,\"height\":300,\"margin\":[5,10],\"sizing_mode\":\"fixed\",\"align\":\"start\",\"x_range\":{\"type\":\"object\",\"name\":\"Range1d\",\"id\":\"p1261\",\"attributes\":{\"tags\":[[[\"Voltage\",null]],[]],\"start\":-1.0,\"end\":182.0,\"reset_start\":-1.0,\"reset_end\":182.0}},\"y_range\":{\"type\":\"object\",\"name\":\"Range1d\",\"id\":\"p1262\",\"attributes\":{\"tags\":[[[\"Frequency\",null]],{\"type\":\"map\",\"entries\":[[\"invert_yaxis\",false],[\"autorange\",false]]}],\"start\":-1.2000000000000002,\"end\":25.2,\"reset_start\":-1.2000000000000002,\"reset_end\":25.2}},\"x_scale\":{\"type\":\"object\",\"name\":\"LinearScale\",\"id\":\"p1281\"},\"y_scale\":{\"type\":\"object\",\"name\":\"LinearScale\",\"id\":\"p1282\"},\"title\":{\"type\":\"object\",\"name\":\"Title\",\"id\":\"p1274\",\"attributes\":{\"text\":\"Resampled distribution results\",\"text_color\":\"black\",\"text_font_size\":\"12pt\"}},\"renderers\":[{\"type\":\"object\",\"name\":\"GlyphRenderer\",\"id\":\"p1311\",\"attributes\":{\"name\":\"Actual (resampled)\",\"data_source\":{\"type\":\"object\",\"name\":\"ColumnDataSource\",\"id\":\"p1302\",\"attributes\":{\"selected\":{\"type\":\"object\",\"name\":\"Selection\",\"id\":\"p1303\",\"attributes\":{\"indices\":[],\"line_indices\":[]}},\"selection_policy\":{\"type\":\"object\",\"name\":\"UnionRenderers\",\"id\":\"p1304\"},\"data\":{\"type\":\"map\",\"entries\":[[\"Voltage\",{\"type\":\"ndarray\",\"array\":{\"type\":\"bytes\",\"data\":\"AAAAAAAA8L8AAAAAAAAAAAAAAAAAAPA/AAAAAAAAAEAAAAAAAAAIQAAAAAAAABBAAAAAAAAAGEAAAAAAAAAcQAAAAAAAACZAAAAAAAAAKEAAAAAAAAAqQAAAAAAAAC5AAAAAAAAAMEAAAAAAAAAxQAAAAAAAADJAAAAAAAAAM0AAAAAAAAA1QAAAAAAAADZAAAAAAAAAOkAAAAAAAAA7QAAAAAAAAEBAAAAAAACAQEAAAAAAAABBQAAAAAAAgEFAAAAAAACAQkAAAAAAAABDQAAAAAAAAERAAAAAAACAREAAAAAAAABFQAAAAAAAgEVAAAAAAAAARkAAAAAAAIBGQAAAAAAAAEdAAAAAAACASEAAAAAAAABJQAAAAAAAgElAAAAAAAAASkAAAAAAAIBLQAAAAAAAAExAAAAAAAAATUAAAAAAAIBNQAAAAAAAAE5AAAAAAACAT0AAAAAAAIBQQAAAAAAAgFFAAAAAAADAUUAAAAAAAIBSQAAAAAAAgFNAAAAAAADAU0AAAAAAAEBUQAAAAAAAgFRAAAAAAADAVEAAAAAAAABWQAAAAAAAQFZAAAAAAABAWEAAAAAAAEBZQAAAAAAAgFlAAAAAAADAWUAAAAAAAABaQAAAAAAAQFpAAAAAAACAWkAAAAAAAMBaQAAAAAAAAFtAAAAAAABAW0AAAAAAAIBbQAAAAAAAwFtAAAAAAAAAXUAAAAAAAEBdQAAAAAAAAF9AAAAAAABAX0AAAAAAAMBhQAAAAAAAgGJAAAAAAAAgY0AAAAAAAMBjQAAAAAAAAGRAAAAAAAAAZUAAAAAAAGBlQAAAAAAAgGVAAAAAAACgZUAAAAAAAMBmQA==\"},\"shape\":[80],\"dtype\":\"float64\",\"order\":\"little\"}],[\"Frequency\",{\"type\":\"ndarray\",\"array\":{\"type\":\"bytes\",\"data\":\"AgAAAAEAAAARAAAACQAAAAQAAAABAAAAAQAAAAEAAAABAAAAAQAAAAEAAAABAAAAAQAAAAQAAAABAAAAAwAAAAEAAAABAAAAAQAAAAEAAAABAAAAAQAAAAIAAAABAAAAAgAAAAEAAAABAAAAAQAAAAIAAAABAAAAAgAAAAMAAAACAAAAAQAAAAEAAAABAAAAAQAAAAEAAAABAAAAAQAAAAEAAAACAAAAAgAAAAEAAAABAAAAAgAAAAEAAAADAAAAAgAAAAEAAAACAAAAAgAAAAEAAAACAAAAAQAAABcAAAABAAAABQAAAAEAAAAHAAAAAwAAAAMAAAAJAAAAAQAAAAIAAAACAAAABAAAAAEAAAABAAAAAgAAAAEAAAAFAAAAAgAAAAEAAAANAAAACgAAAAQAAAACAAAABgAAAAEAAAA=\"},\"shape\":[80],\"dtype\":\"uint32\",\"order\":\"little\"}],[\"Distribution\",[\"Actual (resampled)\",\"Actual (resampled)\",\"Actual (resampled)\",\"Actual (resampled)\",\"Actual (resampled)\",\"Actual (resampled)\",\"Actual (resampled)\",\"Actual (resampled)\",\"Actual (resampled)\",\"Actual (resampled)\",\"Actual (resampled)\",\"Actual (resampled)\",\"Actual (resampled)\",\"Actual (resampled)\",\"Actual (resampled)\",\"Actual (resampled)\",\"Actual (resampled)\",\"Actual (resampled)\",\"Actual (resampled)\",\"Actual (resampled)\",\"Actual (resampled)\",\"Actual (resampled)\",\"Actual (resampled)\",\"Actual (resampled)\",\"Actual (resampled)\",\"Actual (resampled)\",\"Actual (resampled)\",\"Actual (resampled)\",\"Actual (resampled)\",\"Actual (resampled)\",\"Actual (resampled)\",\"Actual (resampled)\",\"Actual (resampled)\",\"Actual (resampled)\",\"Actual (resampled)\",\"Actual (resampled)\",\"Actual (resampled)\",\"Actual (resampled)\",\"Actual (resampled)\",\"Actual (resampled)\",\"Actual (resampled)\",\"Actual (resampled)\",\"Actual (resampled)\",\"Actual (resampled)\",\"Actual (resampled)\",\"Actual (resampled)\",\"Actual (resampled)\",\"Actual (resampled)\",\"Actual (resampled)\",\"Actual (resampled)\",\"Actual (resampled)\",\"Actual (resampled)\",\"Actual (resampled)\",\"Actual (resampled)\",\"Actual (resampled)\",\"Actual (resampled)\",\"Actual (resampled)\",\"Actual (resampled)\",\"Actual (resampled)\",\"Actual (resampled)\",\"Actual (resampled)\",\"Actual (resampled)\",\"Actual (resampled)\",\"Actual (resampled)\",\"Actual (resampled)\",\"Actual (resampled)\",\"Actual (resampled)\",\"Actual (resampled)\",\"Actual (resampled)\",\"Actual (resampled)\",\"Actual (resampled)\",\"Actual (resampled)\",\"Actual (resampled)\",\"Actual (resampled)\",\"Actual (resampled)\",\"Actual (resampled)\",\"Actual (resampled)\",\"Actual (resampled)\",\"Actual (resampled)\",\"Actual (resampled)\"]]]}}},\"view\":{\"type\":\"object\",\"name\":\"CDSView\",\"id\":\"p1312\",\"attributes\":{\"filter\":{\"type\":\"object\",\"name\":\"AllIndices\",\"id\":\"p1313\"}}},\"glyph\":{\"type\":\"object\",\"name\":\"Line\",\"id\":\"p1308\",\"attributes\":{\"tags\":[\"apply_ranges\"],\"x\":{\"type\":\"field\",\"field\":\"Voltage\"},\"y\":{\"type\":\"field\",\"field\":\"Frequency\"},\"line_color\":\"#30a2da\",\"line_width\":2}},\"selection_glyph\":{\"type\":\"object\",\"name\":\"Line\",\"id\":\"p1316\",\"attributes\":{\"tags\":[\"apply_ranges\"],\"x\":{\"type\":\"field\",\"field\":\"Voltage\"},\"y\":{\"type\":\"field\",\"field\":\"Frequency\"},\"line_color\":\"#30a2da\",\"line_width\":2}},\"nonselection_glyph\":{\"type\":\"object\",\"name\":\"Line\",\"id\":\"p1309\",\"attributes\":{\"tags\":[\"apply_ranges\"],\"x\":{\"type\":\"field\",\"field\":\"Voltage\"},\"y\":{\"type\":\"field\",\"field\":\"Frequency\"},\"line_color\":\"#30a2da\",\"line_alpha\":0.1,\"line_width\":2}},\"muted_glyph\":{\"type\":\"object\",\"name\":\"Line\",\"id\":\"p1310\",\"attributes\":{\"tags\":[\"apply_ranges\"],\"x\":{\"type\":\"field\",\"field\":\"Voltage\"},\"y\":{\"type\":\"field\",\"field\":\"Frequency\"},\"line_color\":\"#30a2da\",\"line_alpha\":0.2,\"line_width\":2}}}},{\"type\":\"object\",\"name\":\"GlyphRenderer\",\"id\":\"p1326\",\"attributes\":{\"name\":\"Predicted\",\"data_source\":{\"type\":\"object\",\"name\":\"ColumnDataSource\",\"id\":\"p1317\",\"attributes\":{\"selected\":{\"type\":\"object\",\"name\":\"Selection\",\"id\":\"p1318\",\"attributes\":{\"indices\":[],\"line_indices\":[]}},\"selection_policy\":{\"type\":\"object\",\"name\":\"UnionRenderers\",\"id\":\"p1319\"},\"data\":{\"type\":\"map\",\"entries\":[[\"Voltage\",{\"type\":\"ndarray\",\"array\":{\"type\":\"bytes\",\"data\":\"AAAAAACARUAAAAAAAIBGQAAAAAAAAEhAAAAAAACASUAAAAAAAABKQAAAAAAAgEpAAAAAAAAAS0AAAAAAAIBLQAAAAAAAAExAAAAAAAAATUAAAAAAAIBNQAAAAAAAAE5AAAAAAACATkAAAAAAAABPQAAAAAAAgE9AAAAAAAAAUEAAAAAAAEBQQAAAAAAAgFBAAAAAAADAUEAAAAAAAABRQAAAAAAAQFFAAAAAAACAUUAAAAAAAMBRQAAAAAAAAFJAAAAAAABAUkAAAAAAAIBSQAAAAAAAwFJAAAAAAAAAU0AAAAAAAEBTQAAAAAAAgFNAAAAAAADAU0AAAAAAAABUQAAAAAAAQFRAAAAAAACAVEAAAAAAAMBUQAAAAAAAAFVAAAAAAABAVUAAAAAAAIBVQAAAAAAAwFVAAAAAAAAAVkAAAAAAAEBWQAAAAAAAgFZAAAAAAAAAV0AAAAAAAEBXQAAAAAAAgFdAAAAAAADAV0AAAAAAAABYQAAAAAAAQFhAAAAAAACAWEAAAAAAAMBYQAAAAAAAAFlAAAAAAABAWUAAAAAAAIBZQAAAAAAAwFlAAAAAAAAAWkAAAAAAAEBaQAAAAAAAgFpAAAAAAADAWkAAAAAAAABbQAAAAAAAgFtAAAAAAADAW0AAAAAAAEBcQAAAAAAAgFxAAAAAAADAXEAAAAAAAABdQAAAAAAAAF5AAAAAAABAXkAAAAAAAIBeQAAAAAAAwF9AAAAAAABAYEAAAAAAAGBgQAAAAAAAoGBAAAAAAADAYEAAAAAAACBhQAAAAAAAwGFAAAAAAADgYUAAAAAAAEBiQAAAAAAAgGJA\"},\"shape\":[78],\"dtype\":\"float64\",\"order\":\"little\"}],[\"Frequency\",{\"type\":\"ndarray\",\"array\":{\"type\":\"bytes\",\"data\":\"AQAAAAEAAAADAAAAAwAAAAEAAAABAAAAAwAAAAMAAAADAAAAAQAAAAIAAAAEAAAACQAAAAUAAAAJAAAACAAAAAsAAAAIAAAACAAAAAQAAAAEAAAAAwAAAAEAAAADAAAACAAAAAQAAAADAAAABQAAAAcAAAACAAAABAAAAAIAAAABAAAAAQAAAAEAAAADAAAAAgAAAAQAAAABAAAAAgAAAAQAAAABAAAAAQAAAAMAAAABAAAAAwAAAAMAAAADAAAAAwAAAAMAAAACAAAAAgAAAAEAAAABAAAAAgAAAAMAAAACAAAAAwAAAAEAAAABAAAAAgAAAAEAAAACAAAAAQAAAAEAAAABAAAAAQAAAAEAAAABAAAAAQAAAAEAAAABAAAAAQAAAAIAAAABAAAAAgAAAAEAAAABAAAA\"},\"shape\":[78],\"dtype\":\"uint32\",\"order\":\"little\"}],[\"Distribution\",[\"Predicted\",\"Predicted\",\"Predicted\",\"Predicted\",\"Predicted\",\"Predicted\",\"Predicted\",\"Predicted\",\"Predicted\",\"Predicted\",\"Predicted\",\"Predicted\",\"Predicted\",\"Predicted\",\"Predicted\",\"Predicted\",\"Predicted\",\"Predicted\",\"Predicted\",\"Predicted\",\"Predicted\",\"Predicted\",\"Predicted\",\"Predicted\",\"Predicted\",\"Predicted\",\"Predicted\",\"Predicted\",\"Predicted\",\"Predicted\",\"Predicted\",\"Predicted\",\"Predicted\",\"Predicted\",\"Predicted\",\"Predicted\",\"Predicted\",\"Predicted\",\"Predicted\",\"Predicted\",\"Predicted\",\"Predicted\",\"Predicted\",\"Predicted\",\"Predicted\",\"Predicted\",\"Predicted\",\"Predicted\",\"Predicted\",\"Predicted\",\"Predicted\",\"Predicted\",\"Predicted\",\"Predicted\",\"Predicted\",\"Predicted\",\"Predicted\",\"Predicted\",\"Predicted\",\"Predicted\",\"Predicted\",\"Predicted\",\"Predicted\",\"Predicted\",\"Predicted\",\"Predicted\",\"Predicted\",\"Predicted\",\"Predicted\",\"Predicted\",\"Predicted\",\"Predicted\",\"Predicted\",\"Predicted\",\"Predicted\",\"Predicted\",\"Predicted\",\"Predicted\"]]]}}},\"view\":{\"type\":\"object\",\"name\":\"CDSView\",\"id\":\"p1327\",\"attributes\":{\"filter\":{\"type\":\"object\",\"name\":\"AllIndices\",\"id\":\"p1328\"}}},\"glyph\":{\"type\":\"object\",\"name\":\"Line\",\"id\":\"p1323\",\"attributes\":{\"tags\":[\"apply_ranges\"],\"x\":{\"type\":\"field\",\"field\":\"Voltage\"},\"y\":{\"type\":\"field\",\"field\":\"Frequency\"},\"line_color\":\"#fc4f30\",\"line_width\":2}},\"selection_glyph\":{\"type\":\"object\",\"name\":\"Line\",\"id\":\"p1330\",\"attributes\":{\"tags\":[\"apply_ranges\"],\"x\":{\"type\":\"field\",\"field\":\"Voltage\"},\"y\":{\"type\":\"field\",\"field\":\"Frequency\"},\"line_color\":\"#fc4f30\",\"line_width\":2}},\"nonselection_glyph\":{\"type\":\"object\",\"name\":\"Line\",\"id\":\"p1324\",\"attributes\":{\"tags\":[\"apply_ranges\"],\"x\":{\"type\":\"field\",\"field\":\"Voltage\"},\"y\":{\"type\":\"field\",\"field\":\"Frequency\"},\"line_color\":\"#fc4f30\",\"line_alpha\":0.1,\"line_width\":2}},\"muted_glyph\":{\"type\":\"object\",\"name\":\"Line\",\"id\":\"p1325\",\"attributes\":{\"tags\":[\"apply_ranges\"],\"x\":{\"type\":\"field\",\"field\":\"Voltage\"},\"y\":{\"type\":\"field\",\"field\":\"Frequency\"},\"line_color\":\"#fc4f30\",\"line_alpha\":0.2,\"line_width\":2}}}}],\"toolbar\":{\"type\":\"object\",\"name\":\"Toolbar\",\"id\":\"p1280\",\"attributes\":{\"tools\":[{\"type\":\"object\",\"name\":\"WheelZoomTool\",\"id\":\"p1266\",\"attributes\":{\"tags\":[\"hv_created\"],\"renderers\":\"auto\",\"zoom_together\":\"none\"}},{\"type\":\"object\",\"name\":\"HoverTool\",\"id\":\"p1267\",\"attributes\":{\"tags\":[\"hv_created\"],\"renderers\":[{\"id\":\"p1311\"},{\"id\":\"p1326\"}],\"tooltips\":[[\"Distribution\",\"@{Distribution}\"],[\"Voltage\",\"@{Voltage}\"],[\"Frequency\",\"@{Frequency}\"]]}},{\"type\":\"object\",\"name\":\"SaveTool\",\"id\":\"p1293\"},{\"type\":\"object\",\"name\":\"PanTool\",\"id\":\"p1294\"},{\"type\":\"object\",\"name\":\"BoxZoomTool\",\"id\":\"p1295\",\"attributes\":{\"overlay\":{\"type\":\"object\",\"name\":\"BoxAnnotation\",\"id\":\"p1296\",\"attributes\":{\"syncable\":false,\"level\":\"overlay\",\"visible\":false,\"left\":{\"type\":\"number\",\"value\":\"nan\"},\"right\":{\"type\":\"number\",\"value\":\"nan\"},\"top\":{\"type\":\"number\",\"value\":\"nan\"},\"bottom\":{\"type\":\"number\",\"value\":\"nan\"},\"left_units\":\"canvas\",\"right_units\":\"canvas\",\"top_units\":\"canvas\",\"bottom_units\":\"canvas\",\"line_color\":\"black\",\"line_alpha\":1.0,\"line_width\":2,\"line_dash\":[4,4],\"fill_color\":\"lightgrey\",\"fill_alpha\":0.5}}}},{\"type\":\"object\",\"name\":\"ResetTool\",\"id\":\"p1301\"}],\"active_drag\":{\"id\":\"p1294\"},\"active_scroll\":{\"id\":\"p1266\"}}},\"left\":[{\"type\":\"object\",\"name\":\"LinearAxis\",\"id\":\"p1288\",\"attributes\":{\"ticker\":{\"type\":\"object\",\"name\":\"BasicTicker\",\"id\":\"p1289\",\"attributes\":{\"mantissas\":[1,2,5]}},\"formatter\":{\"type\":\"object\",\"name\":\"BasicTickFormatter\",\"id\":\"p1290\"},\"axis_label\":\"Frequency\",\"major_label_policy\":{\"type\":\"object\",\"name\":\"AllLabels\",\"id\":\"p1291\"}}}],\"right\":[{\"type\":\"object\",\"name\":\"Legend\",\"id\":\"p1314\",\"attributes\":{\"location\":[0,0],\"title\":\"Distribution\",\"click_policy\":\"mute\",\"items\":[{\"type\":\"object\",\"name\":\"LegendItem\",\"id\":\"p1315\",\"attributes\":{\"label\":{\"type\":\"value\",\"value\":\"Actual (resampled)\"},\"renderers\":[{\"id\":\"p1311\"}]}},{\"type\":\"object\",\"name\":\"LegendItem\",\"id\":\"p1329\",\"attributes\":{\"label\":{\"type\":\"value\",\"value\":\"Predicted\"},\"renderers\":[{\"id\":\"p1326\"}]}}]}}],\"below\":[{\"type\":\"object\",\"name\":\"LinearAxis\",\"id\":\"p1283\",\"attributes\":{\"ticker\":{\"type\":\"object\",\"name\":\"BasicTicker\",\"id\":\"p1284\",\"attributes\":{\"mantissas\":[1,2,5]}},\"formatter\":{\"type\":\"object\",\"name\":\"BasicTickFormatter\",\"id\":\"p1285\"},\"axis_label\":\"Voltage\",\"major_label_policy\":{\"type\":\"object\",\"name\":\"AllLabels\",\"id\":\"p1286\"}}}],\"center\":[{\"type\":\"object\",\"name\":\"Grid\",\"id\":\"p1287\",\"attributes\":{\"axis\":{\"id\":\"p1283\"},\"grid_line_color\":null}},{\"type\":\"object\",\"name\":\"Grid\",\"id\":\"p1292\",\"attributes\":{\"dimension\":1,\"axis\":{\"id\":\"p1288\"},\"grid_line_color\":null}}],\"min_border_top\":10,\"min_border_bottom\":10,\"min_border_left\":10,\"min_border_right\":10,\"output_backend\":\"webgl\"}},{\"type\":\"object\",\"name\":\"Spacer\",\"id\":\"p1332\",\"attributes\":{\"name\":\"HSpacer01459\",\"stylesheets\":[\"\\n:host(.pn-loading):before, .pn-loading:before {\\n  background-color: #c3c3c3;\\n  mask-size: auto calc(min(50%, 400px));\\n  -webkit-mask-size: auto calc(min(50%, 400px));\\n}\",{\"id\":\"p1259\"},{\"id\":\"p1257\"},{\"id\":\"p1258\"}],\"margin\":0,\"sizing_mode\":\"stretch_width\",\"align\":\"start\"}}]}}],\"defs\":[{\"type\":\"model\",\"name\":\"ReactiveHTML1\"},{\"type\":\"model\",\"name\":\"FlexBox1\",\"properties\":[{\"name\":\"align_content\",\"kind\":\"Any\",\"default\":\"flex-start\"},{\"name\":\"align_items\",\"kind\":\"Any\",\"default\":\"flex-start\"},{\"name\":\"flex_direction\",\"kind\":\"Any\",\"default\":\"row\"},{\"name\":\"flex_wrap\",\"kind\":\"Any\",\"default\":\"wrap\"},{\"name\":\"gap\",\"kind\":\"Any\",\"default\":\"\"},{\"name\":\"justify_content\",\"kind\":\"Any\",\"default\":\"flex-start\"}]},{\"type\":\"model\",\"name\":\"FloatPanel1\",\"properties\":[{\"name\":\"config\",\"kind\":\"Any\",\"default\":{\"type\":\"map\"}},{\"name\":\"contained\",\"kind\":\"Any\",\"default\":true},{\"name\":\"position\",\"kind\":\"Any\",\"default\":\"right-top\"},{\"name\":\"offsetx\",\"kind\":\"Any\",\"default\":null},{\"name\":\"offsety\",\"kind\":\"Any\",\"default\":null},{\"name\":\"theme\",\"kind\":\"Any\",\"default\":\"primary\"},{\"name\":\"status\",\"kind\":\"Any\",\"default\":\"normalized\"}]},{\"type\":\"model\",\"name\":\"GridStack1\",\"properties\":[{\"name\":\"mode\",\"kind\":\"Any\",\"default\":\"warn\"},{\"name\":\"ncols\",\"kind\":\"Any\",\"default\":null},{\"name\":\"nrows\",\"kind\":\"Any\",\"default\":null},{\"name\":\"allow_resize\",\"kind\":\"Any\",\"default\":true},{\"name\":\"allow_drag\",\"kind\":\"Any\",\"default\":true},{\"name\":\"state\",\"kind\":\"Any\",\"default\":[]}]},{\"type\":\"model\",\"name\":\"drag1\",\"properties\":[{\"name\":\"slider_width\",\"kind\":\"Any\",\"default\":5},{\"name\":\"slider_color\",\"kind\":\"Any\",\"default\":\"black\"},{\"name\":\"value\",\"kind\":\"Any\",\"default\":50}]},{\"type\":\"model\",\"name\":\"click1\",\"properties\":[{\"name\":\"terminal_output\",\"kind\":\"Any\",\"default\":\"\"},{\"name\":\"debug_name\",\"kind\":\"Any\",\"default\":\"\"},{\"name\":\"clears\",\"kind\":\"Any\",\"default\":0}]},{\"type\":\"model\",\"name\":\"FastWrapper1\",\"properties\":[{\"name\":\"object\",\"kind\":\"Any\",\"default\":null},{\"name\":\"style\",\"kind\":\"Any\",\"default\":null}]},{\"type\":\"model\",\"name\":\"NotificationAreaBase1\",\"properties\":[{\"name\":\"js_events\",\"kind\":\"Any\",\"default\":{\"type\":\"map\"}},{\"name\":\"position\",\"kind\":\"Any\",\"default\":\"bottom-right\"},{\"name\":\"_clear\",\"kind\":\"Any\",\"default\":0}]},{\"type\":\"model\",\"name\":\"NotificationArea1\",\"properties\":[{\"name\":\"js_events\",\"kind\":\"Any\",\"default\":{\"type\":\"map\"}},{\"name\":\"notifications\",\"kind\":\"Any\",\"default\":[]},{\"name\":\"position\",\"kind\":\"Any\",\"default\":\"bottom-right\"},{\"name\":\"_clear\",\"kind\":\"Any\",\"default\":0},{\"name\":\"types\",\"kind\":\"Any\",\"default\":[{\"type\":\"map\",\"entries\":[[\"type\",\"warning\"],[\"background\",\"#ffc107\"],[\"icon\",{\"type\":\"map\",\"entries\":[[\"className\",\"fas fa-exclamation-triangle\"],[\"tagName\",\"i\"],[\"color\",\"white\"]]}]]},{\"type\":\"map\",\"entries\":[[\"type\",\"info\"],[\"background\",\"#007bff\"],[\"icon\",{\"type\":\"map\",\"entries\":[[\"className\",\"fas fa-info-circle\"],[\"tagName\",\"i\"],[\"color\",\"white\"]]}]]}]}]},{\"type\":\"model\",\"name\":\"Notification\",\"properties\":[{\"name\":\"background\",\"kind\":\"Any\",\"default\":null},{\"name\":\"duration\",\"kind\":\"Any\",\"default\":3000},{\"name\":\"icon\",\"kind\":\"Any\",\"default\":null},{\"name\":\"message\",\"kind\":\"Any\",\"default\":\"\"},{\"name\":\"notification_type\",\"kind\":\"Any\",\"default\":null},{\"name\":\"_destroyed\",\"kind\":\"Any\",\"default\":false}]},{\"type\":\"model\",\"name\":\"TemplateActions1\",\"properties\":[{\"name\":\"open_modal\",\"kind\":\"Any\",\"default\":0},{\"name\":\"close_modal\",\"kind\":\"Any\",\"default\":0}]},{\"type\":\"model\",\"name\":\"BootstrapTemplateActions1\",\"properties\":[{\"name\":\"open_modal\",\"kind\":\"Any\",\"default\":0},{\"name\":\"close_modal\",\"kind\":\"Any\",\"default\":0}]},{\"type\":\"model\",\"name\":\"TemplateEditor1\",\"properties\":[{\"name\":\"layout\",\"kind\":\"Any\",\"default\":[]}]},{\"type\":\"model\",\"name\":\"MaterialTemplateActions1\",\"properties\":[{\"name\":\"open_modal\",\"kind\":\"Any\",\"default\":0},{\"name\":\"close_modal\",\"kind\":\"Any\",\"default\":0}]},{\"type\":\"model\",\"name\":\"copy_to_clipboard1\",\"properties\":[{\"name\":\"fill\",\"kind\":\"Any\",\"default\":\"none\"},{\"name\":\"value\",\"kind\":\"Any\",\"default\":null}]}]}};\n",
       "  var render_items = [{\"docid\":\"bfc47828-5d02-4773-9edf-1e92c46ba4f0\",\"roots\":{\"p1256\":\"bd040b4a-ecfd-43d0-ad64-75cdc28a11f4\"},\"root_ids\":[\"p1256\"]}];\n",
       "  var docs = Object.values(docs_json)\n",
       "  if (!docs) {\n",
       "    return\n",
       "  }\n",
       "  const py_version = docs[0].version.replace('rc', '-rc.').replace('.dev', '-dev.')\n",
       "  async function embed_document(root) {\n",
       "    var Bokeh = get_bokeh(root)\n",
       "    await Bokeh.embed.embed_items_notebook(docs_json, render_items);\n",
       "    for (const render_item of render_items) {\n",
       "      for (const root_id of render_item.root_ids) {\n",
       "\tconst id_el = document.getElementById(root_id)\n",
       "\tif (id_el.children.length && id_el.children[0].hasAttribute('data-root-id')) {\n",
       "\t  const root_el = id_el.children[0]\n",
       "\t  root_el.id = root_el.id + '-rendered'\n",
       "\t  for (const child of root_el.children) {\n",
       "            // Ensure JupyterLab does not capture keyboard shortcuts\n",
       "            // see: https://jupyterlab.readthedocs.io/en/4.1.x/extension/notebook.html#keyboard-interaction-model\n",
       "\t    child.setAttribute('data-lm-suppress-shortcuts', 'true')\n",
       "\t  }\n",
       "\t}\n",
       "      }\n",
       "    }\n",
       "  }\n",
       "  function get_bokeh(root) {\n",
       "    if (root.Bokeh === undefined) {\n",
       "      return null\n",
       "    } else if (root.Bokeh.version !== py_version) {\n",
       "      if (root.Bokeh.versions === undefined || !root.Bokeh.versions.has(py_version)) {\n",
       "\treturn null\n",
       "      }\n",
       "      return root.Bokeh.versions.get(py_version);\n",
       "    } else if (root.Bokeh.version === py_version) {\n",
       "      return root.Bokeh\n",
       "    }\n",
       "    return null\n",
       "  }\n",
       "  function is_loaded(root) {\n",
       "    var Bokeh = get_bokeh(root)\n",
       "    return (Bokeh != null && Bokeh.Panel !== undefined)\n",
       "  }\n",
       "  if (is_loaded(root)) {\n",
       "    embed_document(root);\n",
       "  } else {\n",
       "    var attempts = 0;\n",
       "    var timer = setInterval(function(root) {\n",
       "      if (is_loaded(root)) {\n",
       "        clearInterval(timer);\n",
       "        embed_document(root);\n",
       "      } else if (document.readyState == \"complete\") {\n",
       "        attempts++;\n",
       "        if (attempts > 200) {\n",
       "          clearInterval(timer);\n",
       "\t  var Bokeh = get_bokeh(root)\n",
       "\t  if (Bokeh == null || Bokeh.Panel == null) {\n",
       "            console.warn(\"Panel: ERROR: Unable to run Panel code because Bokeh or Panel library is missing\");\n",
       "\t  } else {\n",
       "\t    console.warn(\"Panel: WARNING: Attempting to render but not all required libraries could be resolved.\")\n",
       "\t    embed_document(root)\n",
       "\t  }\n",
       "        }\n",
       "      }\n",
       "    }, 25, root)\n",
       "  }\n",
       "})(window);</script>"
      ],
      "application/vnd.holoviews_exec.v0+json": "",
      "text/plain": [
       ":NdOverlay   [Distribution]\n",
       "   :Curve   [Voltage]   (Frequency)"
      ]
     },
     "execution_count": 27,
     "metadata": {
      "application/vnd.holoviews_exec.v0+json": {
       "id": "p1256"
      }
     },
     "output_type": "execute_result"
    }
   ],
   "execution_count": 27
  },
  {
   "cell_type": "code",
   "id": "9866279c6b273bc7",
   "metadata": {
    "collapsed": false,
    "ExecuteTime": {
     "end_time": "2024-06-25T05:38:48.837411Z",
     "start_time": "2024-06-25T05:38:48.681092Z"
    }
   },
   "source": [
    "results = model.evaluate(i_test, t_test, batch_size=5000)\n",
    "\n",
    "print(\"RMSE:\", np.sqrt(results[0]))"
   ],
   "outputs": [
    {
     "name": "stdout",
     "output_type": "stream",
     "text": [
      "\u001B[1m1/1\u001B[0m \u001B[32m━━━━━━━━━━━━━━━━━━━━\u001B[0m\u001B[37m\u001B[0m \u001B[1m0s\u001B[0m 152ms/step - loss: 2520.0308 - mean_absolute_percentage_error: 1060.3817\n",
      "RMSE: 50.199907985162184\n"
     ]
    }
   ],
   "execution_count": 28
  },
  {
   "cell_type": "code",
   "execution_count": null,
   "id": "c763a80298a73af4",
   "metadata": {},
   "outputs": [],
   "source": []
  }
 ],
 "metadata": {
  "kernelspec": {
   "display_name": "Python 3",
   "language": "python",
   "name": "python3"
  },
  "language_info": {
   "codemirror_mode": {
    "name": "ipython",
    "version": 2
   },
   "file_extension": ".py",
   "mimetype": "text/x-python",
   "name": "python",
   "nbconvert_exporter": "python",
   "pygments_lexer": "ipython2",
   "version": "2.7.6"
  }
 },
 "nbformat": 4,
 "nbformat_minor": 5
}

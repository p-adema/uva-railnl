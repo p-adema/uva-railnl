{
 "cells": [
  {
   "cell_type": "code",
   "execution_count": 46,
   "id": "initial_id",
   "metadata": {
    "ExecuteTime": {
     "end_time": "2024-06-19T10:22:13.008374Z",
     "start_time": "2024-06-19T10:22:13.002108Z"
    },
    "collapsed": true
   },
   "outputs": [],
   "source": [
    "import os\n",
    "\n",
    "import clean\n",
    "import matplotlib.pyplot as plt\n",
    "import numpy as np\n",
    "\n",
    "os.environ[\"KERAS_BACKEND\"] = \"jax\"\n",
    "import keras\n",
    "from keras import layers"
   ]
  },
  {
   "cell_type": "code",
   "execution_count": 47,
   "id": "ee43d5cabcf51f7c",
   "metadata": {
    "ExecuteTime": {
     "end_time": "2024-06-19T10:22:16.595792Z",
     "start_time": "2024-06-19T10:22:14.424959Z"
    },
    "collapsed": false
   },
   "outputs": [],
   "source": [
    "splits = clean.get_space_splits()\n",
    "i_train, i_tune, i_test, t_train, t_tune, t_test = (\n",
    "    splits[part] if part.startswith(\"t\") else splits[part][:, 1:].reshape((-1, 10, 4))\n",
    "    for part in [\"i_train\", \"i_tune\", \"i_test\", \"t_train\", \"t_tune\", \"t_test\"]\n",
    ")\n",
    "i_train: np.ndarray"
   ]
  },
  {
   "cell_type": "code",
   "execution_count": 48,
   "id": "64e0426f143861af",
   "metadata": {
    "ExecuteTime": {
     "end_time": "2024-06-19T10:22:17.304131Z",
     "start_time": "2024-06-19T10:22:17.298862Z"
    }
   },
   "outputs": [],
   "source": [
    "@keras.saving.register_keras_serializable()\n",
    "class InputNorm(layers.Layer):\n",
    "    def __init__(self, n_inputs=4, *args, **kwargs):\n",
    "        super().__init__(*args, **kwargs)\n",
    "        self.mean = self.add_weight(\n",
    "            shape=(1, 1, n_inputs),\n",
    "            initializer=\"zero\",\n",
    "            trainable=False,\n",
    "        )\n",
    "        self.std = self.add_weight(\n",
    "            shape=(1, 1, n_inputs),\n",
    "            initializer=\"zero\",\n",
    "            trainable=False,\n",
    "        )\n",
    "\n",
    "    def adapt(self, data: np.ndarray):\n",
    "        self.mean.assign(np.nanmean(data, axis=(0, 1)).reshape((1, 1, -1)))\n",
    "        self.std.assign(np.nanstd(data, axis=(0, 1)).reshape((1, 1, -1)))\n",
    "\n",
    "    def call(self, inp, **kwargs):\n",
    "        return keras.ops.where(\n",
    "            keras.ops.isnan(inp),\n",
    "            0,\n",
    "            keras.ops.divide(keras.ops.subtract(inp, self.mean), self.std),\n",
    "        )"
   ]
  },
  {
   "cell_type": "code",
   "execution_count": 56,
   "id": "d94a2eb650029378",
   "metadata": {
    "ExecuteTime": {
     "end_time": "2024-06-19T10:22:55.834969Z",
     "start_time": "2024-06-19T10:22:52.951295Z"
    },
    "collapsed": false
   },
   "outputs": [
    {
     "data": {
      "text/html": [
       "<pre style=\"white-space:pre;overflow-x:auto;line-height:normal;font-family:Menlo,'DejaVu Sans Mono',consolas,'Courier New',monospace\"><span style=\"font-weight: bold\">Model: \"sequential_6\"</span>\n",
       "</pre>\n"
      ],
      "text/plain": [
       "\u001B[1mModel: \"sequential_6\"\u001B[0m\n"
      ]
     },
     "metadata": {},
     "output_type": "display_data"
    },
    {
     "data": {
      "text/html": [
       "<pre style=\"white-space:pre;overflow-x:auto;line-height:normal;font-family:Menlo,'DejaVu Sans Mono',consolas,'Courier New',monospace\">┏━━━━━━━━━━━━━━━━━━━━━━━━━━━━━━━━━┳━━━━━━━━━━━━━━━━━━━━━━━━┳━━━━━━━━━━━━━━━┓\n",
       "┃<span style=\"font-weight: bold\"> Layer (type)                    </span>┃<span style=\"font-weight: bold\"> Output Shape           </span>┃<span style=\"font-weight: bold\">       Param # </span>┃\n",
       "┡━━━━━━━━━━━━━━━━━━━━━━━━━━━━━━━━━╇━━━━━━━━━━━━━━━━━━━━━━━━╇━━━━━━━━━━━━━━━┩\n",
       "│ input_norm (<span style=\"color: #0087ff; text-decoration-color: #0087ff\">InputNorm</span>)          │ (<span style=\"color: #00af00; text-decoration-color: #00af00\">50</span>, <span style=\"color: #00af00; text-decoration-color: #00af00\">10</span>, <span style=\"color: #00af00; text-decoration-color: #00af00\">4</span>)            │             <span style=\"color: #00af00; text-decoration-color: #00af00\">8</span> │\n",
       "├─────────────────────────────────┼────────────────────────┼───────────────┤\n",
       "│ mask (<span style=\"color: #0087ff; text-decoration-color: #0087ff\">Masking</span>)                  │ (<span style=\"color: #00af00; text-decoration-color: #00af00\">50</span>, <span style=\"color: #00af00; text-decoration-color: #00af00\">10</span>, <span style=\"color: #00af00; text-decoration-color: #00af00\">4</span>)            │             <span style=\"color: #00af00; text-decoration-color: #00af00\">0</span> │\n",
       "├─────────────────────────────────┼────────────────────────┼───────────────┤\n",
       "│ lstm (<span style=\"color: #0087ff; text-decoration-color: #0087ff\">LSTM</span>)                     │ (<span style=\"color: #00af00; text-decoration-color: #00af00\">50</span>, <span style=\"color: #00af00; text-decoration-color: #00af00\">4</span>)                │           <span style=\"color: #00af00; text-decoration-color: #00af00\">144</span> │\n",
       "├─────────────────────────────────┼────────────────────────┼───────────────┤\n",
       "│ output (<span style=\"color: #0087ff; text-decoration-color: #0087ff\">Dense</span>)                  │ (<span style=\"color: #00af00; text-decoration-color: #00af00\">50</span>, <span style=\"color: #00af00; text-decoration-color: #00af00\">1</span>)                │             <span style=\"color: #00af00; text-decoration-color: #00af00\">5</span> │\n",
       "├─────────────────────────────────┼────────────────────────┼───────────────┤\n",
       "│ output_denorm (<span style=\"color: #0087ff; text-decoration-color: #0087ff\">Normalization</span>)   │ (<span style=\"color: #00af00; text-decoration-color: #00af00\">50</span>, <span style=\"color: #00af00; text-decoration-color: #00af00\">1</span>)                │             <span style=\"color: #00af00; text-decoration-color: #00af00\">0</span> │\n",
       "└─────────────────────────────────┴────────────────────────┴───────────────┘\n",
       "</pre>\n"
      ],
      "text/plain": [
       "┏━━━━━━━━━━━━━━━━━━━━━━━━━━━━━━━━━┳━━━━━━━━━━━━━━━━━━━━━━━━┳━━━━━━━━━━━━━━━┓\n",
       "┃\u001B[1m \u001B[0m\u001B[1mLayer (type)                   \u001B[0m\u001B[1m \u001B[0m┃\u001B[1m \u001B[0m\u001B[1mOutput Shape          \u001B[0m\u001B[1m \u001B[0m┃\u001B[1m \u001B[0m\u001B[1m      Param #\u001B[0m\u001B[1m \u001B[0m┃\n",
       "┡━━━━━━━━━━━━━━━━━━━━━━━━━━━━━━━━━╇━━━━━━━━━━━━━━━━━━━━━━━━╇━━━━━━━━━━━━━━━┩\n",
       "│ input_norm (\u001B[38;5;33mInputNorm\u001B[0m)          │ (\u001B[38;5;34m50\u001B[0m, \u001B[38;5;34m10\u001B[0m, \u001B[38;5;34m4\u001B[0m)            │             \u001B[38;5;34m8\u001B[0m │\n",
       "├─────────────────────────────────┼────────────────────────┼───────────────┤\n",
       "│ mask (\u001B[38;5;33mMasking\u001B[0m)                  │ (\u001B[38;5;34m50\u001B[0m, \u001B[38;5;34m10\u001B[0m, \u001B[38;5;34m4\u001B[0m)            │             \u001B[38;5;34m0\u001B[0m │\n",
       "├─────────────────────────────────┼────────────────────────┼───────────────┤\n",
       "│ lstm (\u001B[38;5;33mLSTM\u001B[0m)                     │ (\u001B[38;5;34m50\u001B[0m, \u001B[38;5;34m4\u001B[0m)                │           \u001B[38;5;34m144\u001B[0m │\n",
       "├─────────────────────────────────┼────────────────────────┼───────────────┤\n",
       "│ output (\u001B[38;5;33mDense\u001B[0m)                  │ (\u001B[38;5;34m50\u001B[0m, \u001B[38;5;34m1\u001B[0m)                │             \u001B[38;5;34m5\u001B[0m │\n",
       "├─────────────────────────────────┼────────────────────────┼───────────────┤\n",
       "│ output_denorm (\u001B[38;5;33mNormalization\u001B[0m)   │ (\u001B[38;5;34m50\u001B[0m, \u001B[38;5;34m1\u001B[0m)                │             \u001B[38;5;34m0\u001B[0m │\n",
       "└─────────────────────────────────┴────────────────────────┴───────────────┘\n"
      ]
     },
     "metadata": {},
     "output_type": "display_data"
    },
    {
     "data": {
      "text/html": [
       "<pre style=\"white-space:pre;overflow-x:auto;line-height:normal;font-family:Menlo,'DejaVu Sans Mono',consolas,'Courier New',monospace\"><span style=\"font-weight: bold\"> Total params: </span><span style=\"color: #00af00; text-decoration-color: #00af00\">157</span> (628.00 B)\n",
       "</pre>\n"
      ],
      "text/plain": [
       "\u001B[1m Total params: \u001B[0m\u001B[38;5;34m157\u001B[0m (628.00 B)\n"
      ]
     },
     "metadata": {},
     "output_type": "display_data"
    },
    {
     "data": {
      "text/html": [
       "<pre style=\"white-space:pre;overflow-x:auto;line-height:normal;font-family:Menlo,'DejaVu Sans Mono',consolas,'Courier New',monospace\"><span style=\"font-weight: bold\"> Trainable params: </span><span style=\"color: #00af00; text-decoration-color: #00af00\">149</span> (596.00 B)\n",
       "</pre>\n"
      ],
      "text/plain": [
       "\u001B[1m Trainable params: \u001B[0m\u001B[38;5;34m149\u001B[0m (596.00 B)\n"
      ]
     },
     "metadata": {},
     "output_type": "display_data"
    },
    {
     "data": {
      "text/html": [
       "<pre style=\"white-space:pre;overflow-x:auto;line-height:normal;font-family:Menlo,'DejaVu Sans Mono',consolas,'Courier New',monospace\"><span style=\"font-weight: bold\"> Non-trainable params: </span><span style=\"color: #00af00; text-decoration-color: #00af00\">8</span> (32.00 B)\n",
       "</pre>\n"
      ],
      "text/plain": [
       "\u001B[1m Non-trainable params: \u001B[0m\u001B[38;5;34m8\u001B[0m (32.00 B)\n"
      ]
     },
     "metadata": {},
     "output_type": "display_data"
    }
   ],
   "source": [
    "keras.utils.set_random_seed(42)\n",
    "\n",
    "input_norm = InputNorm(name=\"input_norm\")\n",
    "input_norm.adapt(i_train)\n",
    "output_denorm = layers.Normalization(\n",
    "    axis=-1,\n",
    "    invert=True,\n",
    "    mean=t_train.mean(axis=0),\n",
    "    variance=t_train.var(axis=0),\n",
    "    name=\"output_denorm\",\n",
    ")\n",
    "\n",
    "model = keras.Sequential(\n",
    "    [\n",
    "        layers.Input((10, 4), batch_size=50),\n",
    "        input_norm,\n",
    "        layers.Masking(name=\"mask\"),\n",
    "        layers.LSTM(4, name=\"lstm\"),\n",
    "        layers.Dense(1, name=\"output\"),\n",
    "        output_denorm,\n",
    "    ]\n",
    ")\n",
    "\n",
    "model.compile(\n",
    "    optimizer=keras.optimizers.Adam(learning_rate=0.001),\n",
    "    loss=keras.losses.MeanSquaredError(),\n",
    "    metrics=[keras.losses.MeanAbsolutePercentageError()],\n",
    ")\n",
    "model(i_train[:50])\n",
    "model.summary()"
   ]
  },
  {
   "cell_type": "code",
   "execution_count": 58,
   "id": "ef9f75db6eb8ec86",
   "metadata": {
    "ExecuteTime": {
     "end_time": "2024-06-19T10:27:18.375963Z",
     "start_time": "2024-06-19T10:23:06.861332Z"
    },
    "collapsed": false
   },
   "outputs": [
    {
     "name": "stdout",
     "output_type": "stream",
     "text": [
      "Epoch 1/30\n",
      "\u001B[1m4608/4608\u001B[0m \u001B[32m━━━━━━━━━━━━━━━━━━━━\u001B[0m\u001B[37m\u001B[0m \u001B[1m10s\u001B[0m 2ms/step - loss: 455.2359 - mean_absolute_percentage_error: 1847290.3750 - val_loss: 448.4702 - val_mean_absolute_percentage_error: 1963516.5000\n",
      "Epoch 2/30\n",
      "\u001B[1m4608/4608\u001B[0m \u001B[32m━━━━━━━━━━━━━━━━━━━━\u001B[0m\u001B[37m\u001B[0m \u001B[1m8s\u001B[0m 2ms/step - loss: 449.7839 - mean_absolute_percentage_error: 1735102.1250 - val_loss: 445.7709 - val_mean_absolute_percentage_error: 1954188.0000\n",
      "Epoch 3/30\n",
      "\u001B[1m4608/4608\u001B[0m \u001B[32m━━━━━━━━━━━━━━━━━━━━\u001B[0m\u001B[37m\u001B[0m \u001B[1m8s\u001B[0m 2ms/step - loss: 447.1035 - mean_absolute_percentage_error: 1667965.0000 - val_loss: 443.3151 - val_mean_absolute_percentage_error: 1890447.3750\n",
      "Epoch 4/30\n",
      "\u001B[1m4608/4608\u001B[0m \u001B[32m━━━━━━━━━━━━━━━━━━━━\u001B[0m\u001B[37m\u001B[0m \u001B[1m8s\u001B[0m 2ms/step - loss: 444.3033 - mean_absolute_percentage_error: 1698294.3750 - val_loss: 440.9813 - val_mean_absolute_percentage_error: 1865275.1250\n",
      "Epoch 5/30\n",
      "\u001B[1m4608/4608\u001B[0m \u001B[32m━━━━━━━━━━━━━━━━━━━━\u001B[0m\u001B[37m\u001B[0m \u001B[1m8s\u001B[0m 2ms/step - loss: 440.9048 - mean_absolute_percentage_error: 1490512.7500 - val_loss: 438.1469 - val_mean_absolute_percentage_error: 1667425.3750\n",
      "Epoch 6/30\n",
      "\u001B[1m4608/4608\u001B[0m \u001B[32m━━━━━━━━━━━━━━━━━━━━\u001B[0m\u001B[37m\u001B[0m \u001B[1m8s\u001B[0m 2ms/step - loss: 437.6899 - mean_absolute_percentage_error: 1467855.0000 - val_loss: 436.5917 - val_mean_absolute_percentage_error: 1628901.1250\n",
      "Epoch 7/30\n",
      "\u001B[1m4608/4608\u001B[0m \u001B[32m━━━━━━━━━━━━━━━━━━━━\u001B[0m\u001B[37m\u001B[0m \u001B[1m8s\u001B[0m 2ms/step - loss: 437.3503 - mean_absolute_percentage_error: 1309367.6250 - val_loss: 435.9050 - val_mean_absolute_percentage_error: 1573107.5000\n",
      "Epoch 8/30\n",
      "\u001B[1m4608/4608\u001B[0m \u001B[32m━━━━━━━━━━━━━━━━━━━━\u001B[0m\u001B[37m\u001B[0m \u001B[1m8s\u001B[0m 2ms/step - loss: 436.6772 - mean_absolute_percentage_error: 1587566.6250 - val_loss: 435.3155 - val_mean_absolute_percentage_error: 1571374.1250\n",
      "Epoch 9/30\n",
      "\u001B[1m4608/4608\u001B[0m \u001B[32m━━━━━━━━━━━━━━━━━━━━\u001B[0m\u001B[37m\u001B[0m \u001B[1m8s\u001B[0m 2ms/step - loss: 435.5533 - mean_absolute_percentage_error: 1362379.3750 - val_loss: 434.9483 - val_mean_absolute_percentage_error: 1564504.8750\n",
      "Epoch 10/30\n",
      "\u001B[1m4608/4608\u001B[0m \u001B[32m━━━━━━━━━━━━━━━━━━━━\u001B[0m\u001B[37m\u001B[0m \u001B[1m8s\u001B[0m 2ms/step - loss: 434.7608 - mean_absolute_percentage_error: 1366770.3750 - val_loss: 434.8392 - val_mean_absolute_percentage_error: 1512968.1250\n",
      "Epoch 11/30\n",
      "\u001B[1m4608/4608\u001B[0m \u001B[32m━━━━━━━━━━━━━━━━━━━━\u001B[0m\u001B[37m\u001B[0m \u001B[1m8s\u001B[0m 2ms/step - loss: 435.8118 - mean_absolute_percentage_error: 1394806.8750 - val_loss: 434.4361 - val_mean_absolute_percentage_error: 1566046.2500\n",
      "Epoch 12/30\n",
      "\u001B[1m4608/4608\u001B[0m \u001B[32m━━━━━━━━━━━━━━━━━━━━\u001B[0m\u001B[37m\u001B[0m \u001B[1m8s\u001B[0m 2ms/step - loss: 435.2719 - mean_absolute_percentage_error: 1294501.5000 - val_loss: 434.1548 - val_mean_absolute_percentage_error: 1566489.8750\n",
      "Epoch 13/30\n",
      "\u001B[1m4608/4608\u001B[0m \u001B[32m━━━━━━━━━━━━━━━━━━━━\u001B[0m\u001B[37m\u001B[0m \u001B[1m8s\u001B[0m 2ms/step - loss: 435.7630 - mean_absolute_percentage_error: 1418111.7500 - val_loss: 433.9782 - val_mean_absolute_percentage_error: 1573704.6250\n",
      "Epoch 14/30\n",
      "\u001B[1m4608/4608\u001B[0m \u001B[32m━━━━━━━━━━━━━━━━━━━━\u001B[0m\u001B[37m\u001B[0m \u001B[1m8s\u001B[0m 2ms/step - loss: 435.1510 - mean_absolute_percentage_error: 1317307.5000 - val_loss: 433.8294 - val_mean_absolute_percentage_error: 1552906.6250\n",
      "Epoch 15/30\n",
      "\u001B[1m4608/4608\u001B[0m \u001B[32m━━━━━━━━━━━━━━━━━━━━\u001B[0m\u001B[37m\u001B[0m \u001B[1m8s\u001B[0m 2ms/step - loss: 436.0192 - mean_absolute_percentage_error: 1298680.1250 - val_loss: 433.9935 - val_mean_absolute_percentage_error: 1599830.7500\n",
      "Epoch 16/30\n",
      "\u001B[1m4608/4608\u001B[0m \u001B[32m━━━━━━━━━━━━━━━━━━━━\u001B[0m\u001B[37m\u001B[0m \u001B[1m8s\u001B[0m 2ms/step - loss: 435.4363 - mean_absolute_percentage_error: 1290195.8750 - val_loss: 433.6592 - val_mean_absolute_percentage_error: 1578606.3750\n",
      "Epoch 17/30\n",
      "\u001B[1m4608/4608\u001B[0m \u001B[32m━━━━━━━━━━━━━━━━━━━━\u001B[0m\u001B[37m\u001B[0m \u001B[1m8s\u001B[0m 2ms/step - loss: 434.5195 - mean_absolute_percentage_error: 1463058.7500 - val_loss: 433.4910 - val_mean_absolute_percentage_error: 1547446.1250\n",
      "Epoch 18/30\n",
      "\u001B[1m4608/4608\u001B[0m \u001B[32m━━━━━━━━━━━━━━━━━━━━\u001B[0m\u001B[37m\u001B[0m \u001B[1m8s\u001B[0m 2ms/step - loss: 434.8690 - mean_absolute_percentage_error: 1401471.5000 - val_loss: 433.4339 - val_mean_absolute_percentage_error: 1588393.1250\n",
      "Epoch 19/30\n",
      "\u001B[1m4608/4608\u001B[0m \u001B[32m━━━━━━━━━━━━━━━━━━━━\u001B[0m\u001B[37m\u001B[0m \u001B[1m8s\u001B[0m 2ms/step - loss: 434.0901 - mean_absolute_percentage_error: 1359208.6250 - val_loss: 433.4992 - val_mean_absolute_percentage_error: 1575622.5000\n",
      "Epoch 20/30\n",
      "\u001B[1m4608/4608\u001B[0m \u001B[32m━━━━━━━━━━━━━━━━━━━━\u001B[0m\u001B[37m\u001B[0m \u001B[1m8s\u001B[0m 2ms/step - loss: 433.5222 - mean_absolute_percentage_error: 1462683.2500 - val_loss: 433.2754 - val_mean_absolute_percentage_error: 1528030.5000\n",
      "Epoch 21/30\n",
      "\u001B[1m4608/4608\u001B[0m \u001B[32m━━━━━━━━━━━━━━━━━━━━\u001B[0m\u001B[37m\u001B[0m \u001B[1m8s\u001B[0m 2ms/step - loss: 435.6311 - mean_absolute_percentage_error: 1340455.5000 - val_loss: 433.2528 - val_mean_absolute_percentage_error: 1599797.0000\n",
      "Epoch 22/30\n",
      "\u001B[1m4608/4608\u001B[0m \u001B[32m━━━━━━━━━━━━━━━━━━━━\u001B[0m\u001B[37m\u001B[0m \u001B[1m8s\u001B[0m 2ms/step - loss: 433.6175 - mean_absolute_percentage_error: 1448824.1250 - val_loss: 433.0834 - val_mean_absolute_percentage_error: 1554356.2500\n",
      "Epoch 23/30\n",
      "\u001B[1m4608/4608\u001B[0m \u001B[32m━━━━━━━━━━━━━━━━━━━━\u001B[0m\u001B[37m\u001B[0m \u001B[1m8s\u001B[0m 2ms/step - loss: 434.2766 - mean_absolute_percentage_error: 1322931.8750 - val_loss: 433.3464 - val_mean_absolute_percentage_error: 1586566.8750\n",
      "Epoch 24/30\n",
      "\u001B[1m4608/4608\u001B[0m \u001B[32m━━━━━━━━━━━━━━━━━━━━\u001B[0m\u001B[37m\u001B[0m \u001B[1m8s\u001B[0m 2ms/step - loss: 433.7782 - mean_absolute_percentage_error: 1225096.6250 - val_loss: 432.9994 - val_mean_absolute_percentage_error: 1537958.0000\n",
      "Epoch 25/30\n",
      "\u001B[1m4608/4608\u001B[0m \u001B[32m━━━━━━━━━━━━━━━━━━━━\u001B[0m\u001B[37m\u001B[0m \u001B[1m8s\u001B[0m 2ms/step - loss: 432.7458 - mean_absolute_percentage_error: 1693637.7500 - val_loss: 433.0684 - val_mean_absolute_percentage_error: 1577421.7500\n",
      "Epoch 26/30\n",
      "\u001B[1m4608/4608\u001B[0m \u001B[32m━━━━━━━━━━━━━━━━━━━━\u001B[0m\u001B[37m\u001B[0m \u001B[1m8s\u001B[0m 2ms/step - loss: 433.6158 - mean_absolute_percentage_error: 1302251.8750 - val_loss: 432.8611 - val_mean_absolute_percentage_error: 1530030.3750\n",
      "Epoch 27/30\n",
      "\u001B[1m4608/4608\u001B[0m \u001B[32m━━━━━━━━━━━━━━━━━━━━\u001B[0m\u001B[37m\u001B[0m \u001B[1m8s\u001B[0m 2ms/step - loss: 433.2575 - mean_absolute_percentage_error: 1306448.3750 - val_loss: 433.1997 - val_mean_absolute_percentage_error: 1567899.1250\n",
      "Epoch 28/30\n",
      "\u001B[1m4608/4608\u001B[0m \u001B[32m━━━━━━━━━━━━━━━━━━━━\u001B[0m\u001B[37m\u001B[0m \u001B[1m8s\u001B[0m 2ms/step - loss: 431.8679 - mean_absolute_percentage_error: 1425812.3750 - val_loss: 432.8692 - val_mean_absolute_percentage_error: 1544083.6250\n",
      "Epoch 29/30\n",
      "\u001B[1m4608/4608\u001B[0m \u001B[32m━━━━━━━━━━━━━━━━━━━━\u001B[0m\u001B[37m\u001B[0m \u001B[1m8s\u001B[0m 2ms/step - loss: 434.5042 - mean_absolute_percentage_error: 1488538.0000 - val_loss: 432.7654 - val_mean_absolute_percentage_error: 1529063.3750\n",
      "Epoch 30/30\n",
      "\u001B[1m4608/4608\u001B[0m \u001B[32m━━━━━━━━━━━━━━━━━━━━\u001B[0m\u001B[37m\u001B[0m \u001B[1m8s\u001B[0m 2ms/step - loss: 434.6312 - mean_absolute_percentage_error: 1260276.8750 - val_loss: 432.8420 - val_mean_absolute_percentage_error: 1536373.1250\n"
     ]
    }
   ],
   "source": [
    "keras.utils.set_random_seed(42)\n",
    "\n",
    "history = model.fit(\n",
    "    i_train,\n",
    "    t_train,\n",
    "    batch_size=500,\n",
    "    epochs=30,\n",
    "    validation_data=(i_tune, t_tune),\n",
    "    # callbacks=[keras.callbacks.EarlyStopping(restore_best_weights=True)],\n",
    ")"
   ]
  },
  {
   "cell_type": "code",
   "execution_count": 54,
   "id": "76a459acfbd106b5",
   "metadata": {
    "ExecuteTime": {
     "end_time": "2024-06-19T10:22:48.816737Z",
     "start_time": "2024-06-19T10:22:48.785932Z"
    }
   },
   "outputs": [],
   "source": [
    "model.save(\"../models/lstm.keras\")"
   ]
  },
  {
   "cell_type": "code",
   "execution_count": 57,
   "id": "46603fd49199a71a",
   "metadata": {
    "ExecuteTime": {
     "end_time": "2024-06-19T10:22:57.459950Z",
     "start_time": "2024-06-19T10:22:57.373548Z"
    }
   },
   "outputs": [],
   "source": [
    "model = keras.models.load_model(\"../models/lstm.keras\")"
   ]
  },
  {
   "cell_type": "code",
   "execution_count": 22,
   "id": "b396954d0cac447b",
   "metadata": {
    "ExecuteTime": {
     "end_time": "2024-06-19T10:11:20.966557Z",
     "start_time": "2024-06-19T10:11:20.757490Z"
    },
    "collapsed": false
   },
   "outputs": [
    {
     "data": {
      "image/png": "[encoded data removed]",
      "text/plain": [
       "<Figure size 640x480 with 1 Axes>"
      ]
     },
     "metadata": {},
     "output_type": "display_data"
    }
   ],
   "source": [
    "x = range(1, 31)\n",
    "\n",
    "plt.plot(x, history.history[\"loss\"], color=\"red\", label=\"Training MSE\")\n",
    "\n",
    "plt.plot(x, history.history[\"val_loss\"], color=\"blue\", label=\"Validation MSE\")\n",
    "plt.legend()\n",
    "plt.title(\"Losses during training\")\n",
    "plt.xlabel(\"Epochs trained\")\n",
    "plt.ylabel(\"Error\")\n",
    "plt.ylim((0, 1000))\n",
    "plt.show()"
   ]
  },
  {
   "cell_type": "code",
   "execution_count": 8,
   "id": "317c7506344e58c2",
   "metadata": {
    "ExecuteTime": {
     "end_time": "2024-06-15T09:43:45.766999Z",
     "start_time": "2024-06-15T09:43:45.765227Z"
    }
   },
   "outputs": [],
   "source": [
    "# keras.utils.plot_model(model, show_shapes=True, show_layer_activations=True)"
   ]
  },
  {
   "cell_type": "code",
   "execution_count": 24,
   "id": "9866279c6b273bc7",
   "metadata": {
    "ExecuteTime": {
     "end_time": "2024-06-19T10:11:33.645346Z",
     "start_time": "2024-06-19T10:11:29.380688Z"
    },
    "collapsed": false
   },
   "outputs": [
    {
     "name": "stdout",
     "output_type": "stream",
     "text": [
      "\u001B[1m7680/7680\u001B[0m \u001B[32m━━━━━━━━━━━━━━━━━━━━\u001B[0m\u001B[37m\u001B[0m \u001B[1m4s\u001B[0m 524us/step - loss: 428.0926 - mean_absolute_percentage_error: 942605.9375\n",
      "RMSE: 20.75035297139545\n"
     ]
    }
   ],
   "source": [
    "results = model.evaluate(i_test, t_test, batch_size=50)\n",
    "\n",
    "print(\"RMSE:\", np.sqrt(results[0]))"
   ]
  }
 ],
 "metadata": {
  "kernelspec": {
   "display_name": "Python 3",
   "language": "python",
   "name": "python3"
  },
  "language_info": {
   "codemirror_mode": {
    "name": "ipython",
    "version": 2
   },
   "file_extension": ".py",
   "mimetype": "text/x-python",
   "name": "python",
   "nbconvert_exporter": "python",
   "pygments_lexer": "ipython2",
   "version": "2.7.6"
  }
 },
 "nbformat": 4,
 "nbformat_minor": 5
}

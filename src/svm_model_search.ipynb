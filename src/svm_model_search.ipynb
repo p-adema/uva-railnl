{
 "cells": [
  {
   "cell_type": "code",
   "execution_count": 8,
   "id": "638aa4b93ee73be4",
   "metadata": {
    "ExecuteTime": {
     "end_time": "2024-06-24T10:41:39.797109Z",
     "start_time": "2024-06-24T10:41:39.791232Z"
    }
   },
   "outputs": [],
   "source": [
    "import os.path\n",
    "import random as random\n",
    "\n",
    "import clean\n",
    "import numpy as np\n",
    "import polars as pl\n",
    "import tqdm\n",
    "from clean.constants import data_dir"
   ]
  },
  {
   "cell_type": "code",
   "execution_count": 3,
   "id": "62dbaef18383c2f4",
   "metadata": {
    "ExecuteTime": {
     "end_time": "2024-06-24T10:33:43.747771Z",
     "start_time": "2024-06-24T10:33:36.424588Z"
    }
   },
   "outputs": [
    {
     "name": "stdout",
     "output_type": "stream",
     "text": [
      "RMSE: 18.71248691247243\n"
     ]
    }
   ],
   "source": [
    "# Test SVD with all made kernels\n",
    "splits = clean.get_kernel_splits()\n",
    "i_train, _, i_test, t_train, _, t_test = (\n",
    "    splits[part]\n",
    "    for part in [\"i_train\", \"i_tune\", \"i_test\", \"t_train\", \"t_tune\", \"t_test\"]\n",
    ")\n",
    "\n",
    "params = np.linalg.lstsq(i_train, t_train, rcond=None)\n",
    "\n",
    "predictions = i_test @ params[0]\n",
    "\n",
    "print(\"RMSE:\", np.sqrt(np.square(np.subtract(t_test, predictions)).mean()))"
   ]
  },
  {
   "cell_type": "code",
   "execution_count": 25,
   "id": "5e005ad1b141b25c",
   "metadata": {
    "ExecuteTime": {
     "end_time": "2024-06-24T15:04:02.442960Z",
     "start_time": "2024-06-24T15:04:02.437769Z"
    }
   },
   "outputs": [],
   "source": [
    "def base_mse(y_true, y_pred):\n",
    "    return np.sqrt(np.mean((y_true - y_pred) ** 2))\n",
    "\n",
    "\n",
    "def directly_weighted_mse(y_true, y_pred, y_true_mean: int):\n",
    "    return np.mean(((y_true - y_pred) * (y_true / y_true_mean)) ** 2)\n",
    "\n",
    "\n",
    "def curved_mse(y_true, y_pred):\n",
    "    y_true -= 180\n",
    "    y_pred -= 180\n",
    "    y_true = np.sign(y_true) * np.sqrt(np.abs(y_true))\n",
    "    y_pred = np.sign(y_pred) * np.sqrt(np.abs(y_pred))\n",
    "    return base_mse(y_true, y_pred) * 100"
   ]
  },
  {
   "cell_type": "code",
   "execution_count": 46,
   "id": "188b7b338b7b0cd1",
   "metadata": {
    "ExecuteTime": {
     "end_time": "2024-06-24T15:15:07.677028Z",
     "start_time": "2024-06-24T15:15:07.658818Z"
    }
   },
   "outputs": [],
   "source": [
    "def kernel_tuning(kernels_file: str = \"kernels.pq\") -> None:\n",
    "    data = pl.scan_parquet(data_dir(f\"samples/{kernels_file}\"))\n",
    "    columns = data.columns\n",
    "    columns.remove(\"sensor_voltage\")\n",
    "    col_arr = np.array(columns)\n",
    "\n",
    "    split = clean.get_kernel_splits()\n",
    "    i_tr_full, i_tu_full, t_tr, t_tu = (\n",
    "        split[part]\n",
    "        for part in [\n",
    "            \"i_train\",\n",
    "            \"i_tune\",\n",
    "            \"t_train\",\n",
    "            \"t_tune\",\n",
    "        ]\n",
    "    )\n",
    "    target_train_mean = t_tr.mean()\n",
    "\n",
    "    with open(\"kernel_file.csv\", \"w\") as file:\n",
    "        file.write(\"n_kernels,loss_type,loss,kernels\\n\")\n",
    "\n",
    "    for i in range(1, len(columns)):\n",
    "        best_mse, best_wmse, best_cmse = np.inf, np.inf, np.inf\n",
    "        best_cols_mse, best_cols_wmse, best_cols_cmse = [], [], []\n",
    "\n",
    "        random.seed(42)\n",
    "        kernels = [True] * i + [False] * (len(columns) - i)\n",
    "        for _ in tqdm.trange(100_000, desc=f\"Size {i}\"):\n",
    "            random.shuffle(kernels)\n",
    "            i_tr, i_tu = i_tr_full[:, kernels], i_tu_full[:, kernels]\n",
    "\n",
    "            parameters = np.linalg.lstsq(i_tr, t_tr, rcond=None)[0]\n",
    "            prediction = i_tu @ parameters\n",
    "\n",
    "            mse = base_mse(t_tu, prediction)\n",
    "            wmse = directly_weighted_mse(\n",
    "                t_tu, prediction, y_true_mean=target_train_mean\n",
    "            )\n",
    "            cmse = curved_mse(t_tu, prediction)\n",
    "\n",
    "            if wmse < best_wmse:\n",
    "                best_wmse = wmse\n",
    "                best_cols_wmse = col_arr[kernels]\n",
    "\n",
    "            if cmse < best_cmse:\n",
    "                best_cmse = cmse\n",
    "                best_cols_cmse = col_arr[kernels]\n",
    "\n",
    "            if mse < best_mse:\n",
    "                best_mse = mse\n",
    "                best_cols_mse = col_arr[kernels]\n",
    "\n",
    "        with open(\"kernel_file.csv\", \"a\") as file:\n",
    "            file.write(f\"{i:0>2},MSE ,{best_mse},{best_cols_mse}\\n\")\n",
    "            file.write(f\"{i:0>2},WMSE,{best_wmse},{best_cols_wmse}\\n\")\n",
    "            file.write(f\"{i:0>2},CMSE,{best_cmse},{best_cols_cmse}\\n\")"
   ]
  },
  {
   "cell_type": "markdown",
   "id": "f2137a0a3043b8c5",
   "metadata": {},
   "source": "Need to load `kernel_file.csv` in, change datatypes and save it as pq"
  },
  {
   "cell_type": "code",
   "execution_count": 14,
   "id": "27385dcb2e640140",
   "metadata": {
    "ExecuteTime": {
     "end_time": "2024-06-24T14:59:41.701876Z",
     "start_time": "2024-06-24T14:59:41.689655Z"
    }
   },
   "outputs": [
    {
     "name": "stdout",
     "output_type": "stream",
     "text": [
      "Best kernels: ['volt_1', 'volt_1*volt_2*distance_to_sensor', 'volt_2*volt_7*distance_to_sensor', 'distance_to_sensor_squared']\n"
     ]
    },
    {
     "data": {
      "text/html": [
       "<div><style>\n",
       ".dataframe > thead > tr,\n",
       ".dataframe > tbody > tr {\n",
       "  text-align: right;\n",
       "  white-space: pre-wrap;\n",
       "}\n",
       "</style>\n",
       "<small>shape: (5, 4)</small><table border=\"1\" class=\"dataframe\"><thead><tr><th>n_kernels</th><th>loss_type</th><th>loss</th><th>kernels</th></tr><tr><td>u8</td><td>cat</td><td>f64</td><td>list[str]</td></tr></thead><tbody><tr><td>1</td><td>&quot;MSE&quot;</td><td>107.394896</td><td>[&quot;volt_7&quot;]</td></tr><tr><td>1</td><td>&quot;WMSE&quot;</td><td>2.0744e6</td><td>[&quot;volt_7&quot;]</td></tr><tr><td>1</td><td>&quot;CMSE&quot;</td><td>2300.938053</td><td>[&quot;volt_7&quot;]</td></tr><tr><td>2</td><td>&quot;MSE&quot;</td><td>102.061866</td><td>[&quot;volt_7&quot;, &quot;volt_1*volt_2*distance_to_sensor&quot;]</td></tr><tr><td>2</td><td>&quot;WMSE&quot;</td><td>1.6943e6</td><td>[&quot;volt_7&quot;, &quot;volt_1*volt_2*distance_to_sensor&quot;]</td></tr></tbody></table></div>"
      ],
      "text/plain": [
       "shape: (5, 4)\n",
       "┌───────────┬───────────┬─────────────┬─────────────────────────────────┐\n",
       "│ n_kernels ┆ loss_type ┆ loss        ┆ kernels                         │\n",
       "│ ---       ┆ ---       ┆ ---         ┆ ---                             │\n",
       "│ u8        ┆ cat       ┆ f64         ┆ list[str]                       │\n",
       "╞═══════════╪═══════════╪═════════════╪═════════════════════════════════╡\n",
       "│ 1         ┆ MSE       ┆ 107.394896  ┆ [\"volt_7\"]                      │\n",
       "│ 1         ┆ WMSE      ┆ 2.0744e6    ┆ [\"volt_7\"]                      │\n",
       "│ 1         ┆ CMSE      ┆ 2300.938053 ┆ [\"volt_7\"]                      │\n",
       "│ 2         ┆ MSE       ┆ 102.061866  ┆ [\"volt_7\", \"volt_1*volt_2*dist… │\n",
       "│ 2         ┆ WMSE      ┆ 1.6943e6    ┆ [\"volt_7\", \"volt_1*volt_2*dist… │\n",
       "└───────────┴───────────┴─────────────┴─────────────────────────────────┘"
      ]
     },
     "execution_count": 14,
     "metadata": {},
     "output_type": "execute_result"
    }
   ],
   "source": [
    "kernels_df = pl.read_parquet(\"../models/kernels.pq\")\n",
    "print(\n",
    "    \"Best kernels:\",\n",
    "    kernels_df.filter(pl.col(\"n_kernels\").eq(4))[\"kernels\"][0].to_list(),\n",
    ")\n",
    "kernels_df.head()"
   ]
  },
  {
   "cell_type": "code",
   "execution_count": 9,
   "id": "28da7aaefc3da5cf",
   "metadata": {
    "ExecuteTime": {
     "end_time": "2024-06-24T10:41:43.793870Z",
     "start_time": "2024-06-24T10:41:42.093705Z"
    }
   },
   "outputs": [
    {
     "name": "stdout",
     "output_type": "stream",
     "text": [
      "RMSE: 18.75821330611865\n"
     ]
    }
   ],
   "source": [
    "if not os.path.isfile(data_dir(\"samples/svd_final_split.npz\")):\n",
    "    clean.split_data(\n",
    "        \"svd_joined.pq\",\n",
    "        kernels_df.filter(pl.col(\"n_kernels\").eq(4))[\"kernels\"][2].to_list(),\n",
    "        \"sensor_voltage\",\n",
    "        \"svd_final_split.npz\",\n",
    "    )\n",
    "\n",
    "splits = np.load(data_dir(\"samples/svd_final_split.npz\"))\n",
    "i_train, _, i_test, t_train, _, t_test = (\n",
    "    splits[part]\n",
    "    for part in [\"i_train\", \"i_tune\", \"i_test\", \"t_train\", \"t_tune\", \"t_test\"]\n",
    ")\n",
    "\n",
    "params = np.linalg.lstsq(i_train, t_train, rcond=None)\n",
    "\n",
    "predictions = i_test @ params[0]\n",
    "np.save(data_dir(\"pred/svm.npy\"), predictions)\n",
    "print(\"RMSE:\", np.sqrt(np.square(np.subtract(t_test, predictions)).mean()))"
   ]
  }
 ],
 "metadata": {
  "kernelspec": {
   "display_name": "Python 3",
   "language": "python",
   "name": "python3"
  },
  "language_info": {
   "codemirror_mode": {
    "name": "ipython",
    "version": 2
   },
   "file_extension": ".py",
   "mimetype": "text/x-python",
   "name": "python",
   "nbconvert_exporter": "python",
   "pygments_lexer": "ipython2",
   "version": "2.7.6"
  }
 },
 "nbformat": 4,
 "nbformat_minor": 5
}

{
 "cells": [
  {
   "cell_type": "code",
   "execution_count": 4,
   "id": "initial_id",
   "metadata": {
    "ExecuteTime": {
     "end_time": "2024-06-21T17:07:21.685771Z",
     "start_time": "2024-06-21T17:07:21.678321Z"
    },
    "collapsed": true
   },
   "outputs": [],
   "source": [
    "import os\n",
    "\n",
    "import clean\n",
    "import matplotlib.pyplot as plt\n",
    "import numpy as np\n",
    "\n",
    "os.environ[\"KERAS_BACKEND\"] = \"jax\"\n",
    "import keras\n",
    "from keras import layers"
   ]
  },
  {
   "cell_type": "code",
   "execution_count": 5,
   "id": "ee43d5cabcf51f7c",
   "metadata": {
    "ExecuteTime": {
     "end_time": "2024-06-21T17:07:50.754137Z",
     "start_time": "2024-06-21T17:07:41.291214Z"
    },
    "collapsed": false
   },
   "outputs": [],
   "source": [
    "splits = clean.get_time_splits()\n",
    "i_train, i_tune, i_test, t_train, t_tune, t_test = (\n",
    "    splits[part]\n",
    "    for part in [\"i_train\", \"i_tune\", \"i_test\", \"t_train\", \"t_tune\", \"t_test\"]\n",
    ")"
   ]
  },
  {
   "cell_type": "code",
   "execution_count": 7,
   "id": "d94a2eb650029378",
   "metadata": {
    "ExecuteTime": {
     "end_time": "2024-06-21T17:08:19.258725Z",
     "start_time": "2024-06-21T17:08:16.304734Z"
    },
    "collapsed": false
   },
   "outputs": [
    {
     "data": {
      "text/html": [
       "<pre style=\"white-space:pre;overflow-x:auto;line-height:normal;font-family:Menlo,'DejaVu Sans Mono',consolas,'Courier New',monospace\"><span style=\"font-weight: bold\">Model: \"sequential\"</span>\n",
       "</pre>\n"
      ],
      "text/plain": [
       "\u001B[1mModel: \"sequential\"\u001B[0m\n"
      ]
     },
     "metadata": {},
     "output_type": "display_data"
    },
    {
     "data": {
      "text/html": [
       "<pre style=\"white-space:pre;overflow-x:auto;line-height:normal;font-family:Menlo,'DejaVu Sans Mono',consolas,'Courier New',monospace\">┏━━━━━━━━━━━━━━━━━━━━━━━━━━━━━━━━━┳━━━━━━━━━━━━━━━━━━━━━━━━┳━━━━━━━━━━━━━━━┓\n",
       "┃<span style=\"font-weight: bold\"> Layer (type)                    </span>┃<span style=\"font-weight: bold\"> Output Shape           </span>┃<span style=\"font-weight: bold\">       Param # </span>┃\n",
       "┡━━━━━━━━━━━━━━━━━━━━━━━━━━━━━━━━━╇━━━━━━━━━━━━━━━━━━━━━━━━╇━━━━━━━━━━━━━━━┩\n",
       "│ normalization (<span style=\"color: #0087ff; text-decoration-color: #0087ff\">Normalization</span>)   │ (<span style=\"color: #00af00; text-decoration-color: #00af00\">50</span>, <span style=\"color: #00af00; text-decoration-color: #00af00\">12</span>)               │             <span style=\"color: #00af00; text-decoration-color: #00af00\">0</span> │\n",
       "├─────────────────────────────────┼────────────────────────┼───────────────┤\n",
       "│ layer1 (<span style=\"color: #0087ff; text-decoration-color: #0087ff\">Dense</span>)                  │ (<span style=\"color: #00af00; text-decoration-color: #00af00\">50</span>, <span style=\"color: #00af00; text-decoration-color: #00af00\">12</span>)               │           <span style=\"color: #00af00; text-decoration-color: #00af00\">156</span> │\n",
       "├─────────────────────────────────┼────────────────────────┼───────────────┤\n",
       "│ layer2 (<span style=\"color: #0087ff; text-decoration-color: #0087ff\">Dense</span>)                  │ (<span style=\"color: #00af00; text-decoration-color: #00af00\">50</span>, <span style=\"color: #00af00; text-decoration-color: #00af00\">1</span>)                │            <span style=\"color: #00af00; text-decoration-color: #00af00\">13</span> │\n",
       "├─────────────────────────────────┼────────────────────────┼───────────────┤\n",
       "│ normalization_1 (<span style=\"color: #0087ff; text-decoration-color: #0087ff\">Normalization</span>) │ (<span style=\"color: #00af00; text-decoration-color: #00af00\">50</span>, <span style=\"color: #00af00; text-decoration-color: #00af00\">1</span>)                │             <span style=\"color: #00af00; text-decoration-color: #00af00\">0</span> │\n",
       "└─────────────────────────────────┴────────────────────────┴───────────────┘\n",
       "</pre>\n"
      ],
      "text/plain": [
       "┏━━━━━━━━━━━━━━━━━━━━━━━━━━━━━━━━━┳━━━━━━━━━━━━━━━━━━━━━━━━┳━━━━━━━━━━━━━━━┓\n",
       "┃\u001B[1m \u001B[0m\u001B[1mLayer (type)                   \u001B[0m\u001B[1m \u001B[0m┃\u001B[1m \u001B[0m\u001B[1mOutput Shape          \u001B[0m\u001B[1m \u001B[0m┃\u001B[1m \u001B[0m\u001B[1m      Param #\u001B[0m\u001B[1m \u001B[0m┃\n",
       "┡━━━━━━━━━━━━━━━━━━━━━━━━━━━━━━━━━╇━━━━━━━━━━━━━━━━━━━━━━━━╇━━━━━━━━━━━━━━━┩\n",
       "│ normalization (\u001B[38;5;33mNormalization\u001B[0m)   │ (\u001B[38;5;34m50\u001B[0m, \u001B[38;5;34m12\u001B[0m)               │             \u001B[38;5;34m0\u001B[0m │\n",
       "├─────────────────────────────────┼────────────────────────┼───────────────┤\n",
       "│ layer1 (\u001B[38;5;33mDense\u001B[0m)                  │ (\u001B[38;5;34m50\u001B[0m, \u001B[38;5;34m12\u001B[0m)               │           \u001B[38;5;34m156\u001B[0m │\n",
       "├─────────────────────────────────┼────────────────────────┼───────────────┤\n",
       "│ layer2 (\u001B[38;5;33mDense\u001B[0m)                  │ (\u001B[38;5;34m50\u001B[0m, \u001B[38;5;34m1\u001B[0m)                │            \u001B[38;5;34m13\u001B[0m │\n",
       "├─────────────────────────────────┼────────────────────────┼───────────────┤\n",
       "│ normalization_1 (\u001B[38;5;33mNormalization\u001B[0m) │ (\u001B[38;5;34m50\u001B[0m, \u001B[38;5;34m1\u001B[0m)                │             \u001B[38;5;34m0\u001B[0m │\n",
       "└─────────────────────────────────┴────────────────────────┴───────────────┘\n"
      ]
     },
     "metadata": {},
     "output_type": "display_data"
    },
    {
     "data": {
      "text/html": [
       "<pre style=\"white-space:pre;overflow-x:auto;line-height:normal;font-family:Menlo,'DejaVu Sans Mono',consolas,'Courier New',monospace\"><span style=\"font-weight: bold\"> Total params: </span><span style=\"color: #00af00; text-decoration-color: #00af00\">169</span> (676.00 B)\n",
       "</pre>\n"
      ],
      "text/plain": [
       "\u001B[1m Total params: \u001B[0m\u001B[38;5;34m169\u001B[0m (676.00 B)\n"
      ]
     },
     "metadata": {},
     "output_type": "display_data"
    },
    {
     "data": {
      "text/html": [
       "<pre style=\"white-space:pre;overflow-x:auto;line-height:normal;font-family:Menlo,'DejaVu Sans Mono',consolas,'Courier New',monospace\"><span style=\"font-weight: bold\"> Trainable params: </span><span style=\"color: #00af00; text-decoration-color: #00af00\">169</span> (676.00 B)\n",
       "</pre>\n"
      ],
      "text/plain": [
       "\u001B[1m Trainable params: \u001B[0m\u001B[38;5;34m169\u001B[0m (676.00 B)\n"
      ]
     },
     "metadata": {},
     "output_type": "display_data"
    },
    {
     "data": {
      "text/html": [
       "<pre style=\"white-space:pre;overflow-x:auto;line-height:normal;font-family:Menlo,'DejaVu Sans Mono',consolas,'Courier New',monospace\"><span style=\"font-weight: bold\"> Non-trainable params: </span><span style=\"color: #00af00; text-decoration-color: #00af00\">0</span> (0.00 B)\n",
       "</pre>\n"
      ],
      "text/plain": [
       "\u001B[1m Non-trainable params: \u001B[0m\u001B[38;5;34m0\u001B[0m (0.00 B)\n"
      ]
     },
     "metadata": {},
     "output_type": "display_data"
    }
   ],
   "source": [
    "keras.utils.set_random_seed(42)\n",
    "\n",
    "input_norm = layers.Normalization(\n",
    "    axis=-1, mean=i_train.mean(axis=0), variance=i_train.var(axis=0)\n",
    ")\n",
    "output_denorm = layers.Normalization(\n",
    "    axis=-1,\n",
    "    invert=True,\n",
    "    mean=t_train.mean(axis=0),\n",
    "    variance=t_train.var(axis=0),\n",
    ")\n",
    "\n",
    "model = keras.Sequential(\n",
    "    [\n",
    "        layers.Input((12,), batch_size=50),\n",
    "        input_norm,\n",
    "        layers.Dense(12, activation=\"relu\", name=\"layer1\"),\n",
    "        layers.Dense(1, name=\"layer2\"),\n",
    "        output_denorm,\n",
    "    ]\n",
    ")\n",
    "\n",
    "model.compile(\n",
    "    optimizer=keras.optimizers.Adam(learning_rate=0.001),\n",
    "    loss=keras.losses.MeanSquaredError(),\n",
    "    metrics=[keras.losses.MeanAbsolutePercentageError()],\n",
    ")\n",
    "model.summary()"
   ]
  },
  {
   "cell_type": "code",
   "execution_count": 8,
   "id": "ef9f75db6eb8ec86",
   "metadata": {
    "ExecuteTime": {
     "end_time": "2024-06-21T17:18:40.769285Z",
     "start_time": "2024-06-21T17:08:24.151468Z"
    },
    "collapsed": false
   },
   "outputs": [
    {
     "name": "stdout",
     "output_type": "stream",
     "text": [
      "Epoch 1/30\n",
      "\u001B[1m24988/24988\u001B[0m \u001B[32m━━━━━━━━━━━━━━━━━━━━\u001B[0m\u001B[37m\u001B[0m \u001B[1m21s\u001B[0m 812us/step - loss: 400.0667 - mean_absolute_percentage_error: 874191.3750 - val_loss: 395.9730 - val_mean_absolute_percentage_error: 731769.0625\n",
      "Epoch 2/30\n",
      "\u001B[1m24988/24988\u001B[0m \u001B[32m━━━━━━━━━━━━━━━━━━━━\u001B[0m\u001B[37m\u001B[0m \u001B[1m21s\u001B[0m 797us/step - loss: 394.9679 - mean_absolute_percentage_error: 818661.6250 - val_loss: 394.3536 - val_mean_absolute_percentage_error: 761705.9375\n",
      "Epoch 3/30\n",
      "\u001B[1m24988/24988\u001B[0m \u001B[32m━━━━━━━━━━━━━━━━━━━━\u001B[0m\u001B[37m\u001B[0m \u001B[1m20s\u001B[0m 797us/step - loss: 394.3379 - mean_absolute_percentage_error: 806316.7500 - val_loss: 394.0979 - val_mean_absolute_percentage_error: 718627.8750\n",
      "Epoch 4/30\n",
      "\u001B[1m24988/24988\u001B[0m \u001B[32m━━━━━━━━━━━━━━━━━━━━\u001B[0m\u001B[37m\u001B[0m \u001B[1m21s\u001B[0m 797us/step - loss: 394.5710 - mean_absolute_percentage_error: 821945.1250 - val_loss: 394.1298 - val_mean_absolute_percentage_error: 730269.1875\n",
      "Epoch 5/30\n",
      "\u001B[1m24988/24988\u001B[0m \u001B[32m━━━━━━━━━━━━━━━━━━━━\u001B[0m\u001B[37m\u001B[0m \u001B[1m20s\u001B[0m 797us/step - loss: 394.1714 - mean_absolute_percentage_error: 767076.0000 - val_loss: 394.2258 - val_mean_absolute_percentage_error: 739984.6875\n",
      "Epoch 6/30\n",
      "\u001B[1m24988/24988\u001B[0m \u001B[32m━━━━━━━━━━━━━━━━━━━━\u001B[0m\u001B[37m\u001B[0m \u001B[1m20s\u001B[0m 797us/step - loss: 394.2660 - mean_absolute_percentage_error: 735188.0625 - val_loss: 394.3885 - val_mean_absolute_percentage_error: 786304.1250\n",
      "Epoch 7/30\n",
      "\u001B[1m24988/24988\u001B[0m \u001B[32m━━━━━━━━━━━━━━━━━━━━\u001B[0m\u001B[37m\u001B[0m \u001B[1m21s\u001B[0m 798us/step - loss: 394.4065 - mean_absolute_percentage_error: 796234.2500 - val_loss: 394.4416 - val_mean_absolute_percentage_error: 719376.3750\n",
      "Epoch 8/30\n",
      "\u001B[1m24988/24988\u001B[0m \u001B[32m━━━━━━━━━━━━━━━━━━━━\u001B[0m\u001B[37m\u001B[0m \u001B[1m21s\u001B[0m 797us/step - loss: 394.2778 - mean_absolute_percentage_error: 745678.4375 - val_loss: 394.4019 - val_mean_absolute_percentage_error: 727688.4375\n",
      "Epoch 9/30\n",
      "\u001B[1m24988/24988\u001B[0m \u001B[32m━━━━━━━━━━━━━━━━━━━━\u001B[0m\u001B[37m\u001B[0m \u001B[1m21s\u001B[0m 797us/step - loss: 394.4240 - mean_absolute_percentage_error: 778014.4375 - val_loss: 394.1476 - val_mean_absolute_percentage_error: 745535.1875\n",
      "Epoch 10/30\n",
      "\u001B[1m24988/24988\u001B[0m \u001B[32m━━━━━━━━━━━━━━━━━━━━\u001B[0m\u001B[37m\u001B[0m \u001B[1m21s\u001B[0m 797us/step - loss: 394.3185 - mean_absolute_percentage_error: 781575.1250 - val_loss: 393.6826 - val_mean_absolute_percentage_error: 745267.5625\n",
      "Epoch 11/30\n",
      "\u001B[1m24988/24988\u001B[0m \u001B[32m━━━━━━━━━━━━━━━━━━━━\u001B[0m\u001B[37m\u001B[0m \u001B[1m20s\u001B[0m 796us/step - loss: 394.4765 - mean_absolute_percentage_error: 748214.8125 - val_loss: 393.5207 - val_mean_absolute_percentage_error: 738512.9375\n",
      "Epoch 12/30\n",
      "\u001B[1m24988/24988\u001B[0m \u001B[32m━━━━━━━━━━━━━━━━━━━━\u001B[0m\u001B[37m\u001B[0m \u001B[1m21s\u001B[0m 797us/step - loss: 394.9590 - mean_absolute_percentage_error: 776702.7500 - val_loss: 393.6636 - val_mean_absolute_percentage_error: 744137.9375\n",
      "Epoch 13/30\n",
      "\u001B[1m24988/24988\u001B[0m \u001B[32m━━━━━━━━━━━━━━━━━━━━\u001B[0m\u001B[37m\u001B[0m \u001B[1m20s\u001B[0m 796us/step - loss: 393.9775 - mean_absolute_percentage_error: 784767.0000 - val_loss: 394.1358 - val_mean_absolute_percentage_error: 756416.1250\n",
      "Epoch 14/30\n",
      "\u001B[1m24988/24988\u001B[0m \u001B[32m━━━━━━━━━━━━━━━━━━━━\u001B[0m\u001B[37m\u001B[0m \u001B[1m21s\u001B[0m 797us/step - loss: 393.8877 - mean_absolute_percentage_error: 800299.1250 - val_loss: 394.1145 - val_mean_absolute_percentage_error: 725157.7500\n",
      "Epoch 15/30\n",
      "\u001B[1m24988/24988\u001B[0m \u001B[32m━━━━━━━━━━━━━━━━━━━━\u001B[0m\u001B[37m\u001B[0m \u001B[1m20s\u001B[0m 796us/step - loss: 393.2404 - mean_absolute_percentage_error: 737729.0625 - val_loss: 393.4352 - val_mean_absolute_percentage_error: 757422.2500\n",
      "Epoch 16/30\n",
      "\u001B[1m24988/24988\u001B[0m \u001B[32m━━━━━━━━━━━━━━━━━━━━\u001B[0m\u001B[37m\u001B[0m \u001B[1m21s\u001B[0m 797us/step - loss: 394.0151 - mean_absolute_percentage_error: 804960.1875 - val_loss: 393.9991 - val_mean_absolute_percentage_error: 718915.1875\n",
      "Epoch 17/30\n",
      "\u001B[1m24988/24988\u001B[0m \u001B[32m━━━━━━━━━━━━━━━━━━━━\u001B[0m\u001B[37m\u001B[0m \u001B[1m20s\u001B[0m 796us/step - loss: 394.3730 - mean_absolute_percentage_error: 765163.0625 - val_loss: 393.7195 - val_mean_absolute_percentage_error: 754242.8125\n",
      "Epoch 18/30\n",
      "\u001B[1m24988/24988\u001B[0m \u001B[32m━━━━━━━━━━━━━━━━━━━━\u001B[0m\u001B[37m\u001B[0m \u001B[1m21s\u001B[0m 797us/step - loss: 393.4267 - mean_absolute_percentage_error: 775945.0000 - val_loss: 393.4708 - val_mean_absolute_percentage_error: 753619.2500\n",
      "Epoch 19/30\n",
      "\u001B[1m24988/24988\u001B[0m \u001B[32m━━━━━━━━━━━━━━━━━━━━\u001B[0m\u001B[37m\u001B[0m \u001B[1m21s\u001B[0m 801us/step - loss: 393.9922 - mean_absolute_percentage_error: 736439.5000 - val_loss: 396.2262 - val_mean_absolute_percentage_error: 725637.5000\n",
      "Epoch 20/30\n",
      "\u001B[1m24988/24988\u001B[0m \u001B[32m━━━━━━━━━━━━━━━━━━━━\u001B[0m\u001B[37m\u001B[0m \u001B[1m21s\u001B[0m 797us/step - loss: 393.8400 - mean_absolute_percentage_error: 744771.0000 - val_loss: 394.5304 - val_mean_absolute_percentage_error: 714196.7500\n",
      "Epoch 21/30\n",
      "\u001B[1m24988/24988\u001B[0m \u001B[32m━━━━━━━━━━━━━━━━━━━━\u001B[0m\u001B[37m\u001B[0m \u001B[1m21s\u001B[0m 797us/step - loss: 393.8287 - mean_absolute_percentage_error: 754913.6875 - val_loss: 393.7052 - val_mean_absolute_percentage_error: 728995.6250\n",
      "Epoch 22/30\n",
      "\u001B[1m24988/24988\u001B[0m \u001B[32m━━━━━━━━━━━━━━━━━━━━\u001B[0m\u001B[37m\u001B[0m \u001B[1m21s\u001B[0m 799us/step - loss: 394.5482 - mean_absolute_percentage_error: 770379.2500 - val_loss: 393.3919 - val_mean_absolute_percentage_error: 752641.8125\n",
      "Epoch 23/30\n",
      "\u001B[1m24988/24988\u001B[0m \u001B[32m━━━━━━━━━━━━━━━━━━━━\u001B[0m\u001B[37m\u001B[0m \u001B[1m21s\u001B[0m 797us/step - loss: 393.8976 - mean_absolute_percentage_error: 791282.0625 - val_loss: 393.6025 - val_mean_absolute_percentage_error: 756553.1250\n",
      "Epoch 24/30\n",
      "\u001B[1m24988/24988\u001B[0m \u001B[32m━━━━━━━━━━━━━━━━━━━━\u001B[0m\u001B[37m\u001B[0m \u001B[1m21s\u001B[0m 797us/step - loss: 393.7894 - mean_absolute_percentage_error: 757315.1875 - val_loss: 394.0311 - val_mean_absolute_percentage_error: 750953.6250\n",
      "Epoch 25/30\n",
      "\u001B[1m24988/24988\u001B[0m \u001B[32m━━━━━━━━━━━━━━━━━━━━\u001B[0m\u001B[37m\u001B[0m \u001B[1m20s\u001B[0m 796us/step - loss: 394.0455 - mean_absolute_percentage_error: 779955.1250 - val_loss: 393.5305 - val_mean_absolute_percentage_error: 742199.6250\n",
      "Epoch 26/30\n",
      "\u001B[1m24988/24988\u001B[0m \u001B[32m━━━━━━━━━━━━━━━━━━━━\u001B[0m\u001B[37m\u001B[0m \u001B[1m21s\u001B[0m 797us/step - loss: 393.7298 - mean_absolute_percentage_error: 824331.9375 - val_loss: 394.0401 - val_mean_absolute_percentage_error: 725934.8750\n",
      "Epoch 27/30\n",
      "\u001B[1m24988/24988\u001B[0m \u001B[32m━━━━━━━━━━━━━━━━━━━━\u001B[0m\u001B[37m\u001B[0m \u001B[1m20s\u001B[0m 797us/step - loss: 394.4221 - mean_absolute_percentage_error: 845744.1250 - val_loss: 393.7990 - val_mean_absolute_percentage_error: 696576.8750\n",
      "Epoch 28/30\n",
      "\u001B[1m24988/24988\u001B[0m \u001B[32m━━━━━━━━━━━━━━━━━━━━\u001B[0m\u001B[37m\u001B[0m \u001B[1m21s\u001B[0m 797us/step - loss: 393.9030 - mean_absolute_percentage_error: 746099.2500 - val_loss: 393.4625 - val_mean_absolute_percentage_error: 734398.2500\n",
      "Epoch 29/30\n",
      "\u001B[1m24988/24988\u001B[0m \u001B[32m━━━━━━━━━━━━━━━━━━━━\u001B[0m\u001B[37m\u001B[0m \u001B[1m21s\u001B[0m 797us/step - loss: 394.6737 - mean_absolute_percentage_error: 795493.8750 - val_loss: 393.6749 - val_mean_absolute_percentage_error: 716026.9375\n",
      "Epoch 30/30\n",
      "\u001B[1m24988/24988\u001B[0m \u001B[32m━━━━━━━━━━━━━━━━━━━━\u001B[0m\u001B[37m\u001B[0m \u001B[1m21s\u001B[0m 797us/step - loss: 393.7523 - mean_absolute_percentage_error: 813607.9375 - val_loss: 393.4872 - val_mean_absolute_percentage_error: 745098.1875\n"
     ]
    }
   ],
   "source": [
    "keras.utils.set_random_seed(42)\n",
    "\n",
    "history = model.fit(\n",
    "    i_train,\n",
    "    t_train,\n",
    "    batch_size=500,\n",
    "    epochs=30,\n",
    "    validation_data=(i_tune, t_tune),\n",
    "    # callbacks=[keras.callbacks.EarlyStopping(restore_best_weights=True)],\n",
    ")"
   ]
  },
  {
   "cell_type": "code",
   "execution_count": 9,
   "id": "76a459acfbd106b5",
   "metadata": {
    "ExecuteTime": {
     "end_time": "2024-06-21T17:18:40.784799Z",
     "start_time": "2024-06-21T17:18:40.771098Z"
    }
   },
   "outputs": [],
   "source": [
    "model.save(\"../models/time.keras\")"
   ]
  },
  {
   "cell_type": "code",
   "execution_count": null,
   "id": "46603fd49199a71a",
   "metadata": {},
   "outputs": [],
   "source": [
    "model = keras.models.load_model(\"../models/time.keras\")"
   ]
  },
  {
   "cell_type": "code",
   "execution_count": 12,
   "id": "b396954d0cac447b",
   "metadata": {
    "ExecuteTime": {
     "end_time": "2024-06-21T18:24:08.860797Z",
     "start_time": "2024-06-21T18:24:08.695775Z"
    },
    "collapsed": false
   },
   "outputs": [
    {
     "data": {
      "image/png": "[encoded data removed]",
      "text/plain": [
       "<Figure size 640x480 with 1 Axes>"
      ]
     },
     "metadata": {},
     "output_type": "display_data"
    }
   ],
   "source": [
    "x = range(1, 31)\n",
    "\n",
    "plt.plot(x, history.history[\"loss\"], color=\"red\", label=\"Training MSE\")\n",
    "\n",
    "plt.plot(x, history.history[\"val_loss\"], color=\"blue\", label=\"Validation MSE\")\n",
    "plt.legend()\n",
    "plt.title(\"Losses during training\")\n",
    "plt.xlabel(\"Epochs trained\")\n",
    "plt.ylabel(\"Error\")\n",
    "plt.ylim((0, 500))\n",
    "plt.show()"
   ]
  },
  {
   "cell_type": "code",
   "execution_count": null,
   "id": "317c7506344e58c2",
   "metadata": {},
   "outputs": [],
   "source": [
    "# keras.utils.plot_model(model, show_shapes=True, show_layer_activations=True)"
   ]
  },
  {
   "cell_type": "code",
   "execution_count": 13,
   "id": "9866279c6b273bc7",
   "metadata": {
    "ExecuteTime": {
     "end_time": "2024-06-21T18:24:33.703293Z",
     "start_time": "2024-06-21T18:24:14.446885Z"
    },
    "collapsed": false
   },
   "outputs": [
    {
     "name": "stdout",
     "output_type": "stream",
     "text": [
      "\u001B[1m41647/41647\u001B[0m \u001B[32m━━━━━━━━━━━━━━━━━━━━\u001B[0m\u001B[37m\u001B[0m \u001B[1m19s\u001B[0m 444us/step - loss: 395.2029 - mean_absolute_percentage_error: 713440.6250\n",
      "RMSE: 19.857553946306396\n"
     ]
    }
   ],
   "source": [
    "results = model.evaluate(i_test, t_test, batch_size=50)\n",
    "\n",
    "print(\"RMSE:\", np.sqrt(results[0]))"
   ]
  }
 ],
 "metadata": {
  "kernelspec": {
   "display_name": "Python 3",
   "language": "python",
   "name": "python3"
  },
  "language_info": {
   "codemirror_mode": {
    "name": "ipython",
    "version": 2
   },
   "file_extension": ".py",
   "mimetype": "text/x-python",
   "name": "python",
   "nbconvert_exporter": "python",
   "pygments_lexer": "ipython2",
   "version": "2.7.6"
  }
 },
 "nbformat": 4,
 "nbformat_minor": 5
}

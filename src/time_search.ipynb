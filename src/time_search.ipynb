{
 "cells": [
  {
   "cell_type": "code",
   "execution_count": 52,
   "id": "5baab03f1c4cda5a",
   "metadata": {
    "ExecuteTime": {
     "end_time": "2024-06-25T16:11:28.689139Z",
     "start_time": "2024-06-25T16:11:28.674715Z"
    }
   },
   "outputs": [],
   "source": [
    "import os\n",
    "\n",
    "import numpy as np\n",
    "from clean import data_dir\n",
    "\n",
    "os.environ[\"KERAS_BACKEND\"] = \"jax\"\n",
    "import keras\n",
    "import keras_tuner\n",
    "from keras import layers"
   ]
  },
  {
   "cell_type": "code",
   "execution_count": 27,
   "id": "ab427378dcca5778",
   "metadata": {
    "ExecuteTime": {
     "end_time": "2024-06-24T12:31:56.337104Z",
     "start_time": "2024-06-24T12:31:54.884544Z"
    }
   },
   "outputs": [],
   "source": [
    "splits = np.load(data_dir(\"samples/train_joined_not_interpolate_splits.npz\"))\n",
    "i_train, i_tune, i_test, t_train, t_tune, t_test = (\n",
    "    splits[part]\n",
    "    for part in [\"i_train\", \"i_tune\", \"i_test\", \"t_train\", \"t_tune\", \"t_test\"]\n",
    ")"
   ]
  },
  {
   "cell_type": "code",
   "execution_count": 29,
   "id": "c845c7d761858c7d",
   "metadata": {},
   "outputs": [],
   "source": [
    "# Functions for the model search:\n",
    "input_norm = layers.Normalization(\n",
    "    axis=-1, mean=i_train.mean(axis=0), variance=i_train.var(axis=0)\n",
    ")\n",
    "\n",
    "output_denorm = layers.Normalization(\n",
    "    axis=-1,\n",
    "    invert=True,\n",
    "    mean=t_train.mean(axis=0),\n",
    "    variance=t_train.var(axis=0),\n",
    ")"
   ]
  },
  {
   "cell_type": "code",
   "execution_count": 44,
   "id": "825330f3f8a16e28",
   "metadata": {
    "ExecuteTime": {
     "end_time": "2024-06-24T12:35:50.095508Z",
     "start_time": "2024-06-24T12:35:50.091093Z"
    }
   },
   "outputs": [],
   "source": [
    "def directly_weighted_mse(y_true, y_pred):\n",
    "    return keras.ops.mean(((y_true - y_pred) * (y_true / t_train.mean())) ** 2)"
   ]
  },
  {
   "cell_type": "code",
   "execution_count": 45,
   "id": "d22c8b1d8d820dea",
   "metadata": {
    "ExecuteTime": {
     "end_time": "2024-06-24T12:35:51.118845Z",
     "start_time": "2024-06-24T12:35:51.107228Z"
    }
   },
   "outputs": [],
   "source": [
    "def build_model(hp: keras_tuner.HyperParameters):\n",
    "    model = keras.Sequential(\n",
    "        [layers.Input((12,), batch_size=50, name=\"input\")], name=\"prediction_model\"\n",
    "    )\n",
    "\n",
    "    if hp.Boolean(\"normalize_input\"):\n",
    "        model.add(input_norm)\n",
    "\n",
    "    for i in range(hp.Int(\"num_layers\", 1, 5, step=1)):\n",
    "        model.add(\n",
    "            layers.Dense(\n",
    "                hp.Int(f\"units_{i}\", 10, 100, step=10),\n",
    "                activation=hp.Choice(\"activation_type\", [\"relu\", \"tanh\"]),\n",
    "                name=f\"layer_{i}\",\n",
    "            )\n",
    "        )\n",
    "\n",
    "        if hp.Boolean(\"dropout\"):\n",
    "            model.add(layers.Dropout(hp.Float(\"dropout_rate\", 0.05, 0.35, step=0.1)))\n",
    "\n",
    "    model.add(\n",
    "        layers.Dense(1, name=\"output\"),\n",
    "    )\n",
    "\n",
    "    if hp.Boolean(\"denormalize_output\"):\n",
    "        model.add(output_denorm)\n",
    "\n",
    "    learning_rate = hp.Float(\"lr\", min_value=1e-4, max_value=1e-2, sampling=\"log\")\n",
    "    model.compile(\n",
    "        optimizer=keras.optimizers.Adam(learning_rate=learning_rate),\n",
    "        loss=\"mse\",  # or: directly_weighted_mse\n",
    "        metrics=[\"mape\", \"mse\"],\n",
    "    )\n",
    "    return model"
   ]
  },
  {
   "cell_type": "code",
   "execution_count": 46,
   "id": "4f93ef3c4f76e363",
   "metadata": {
    "ExecuteTime": {
     "end_time": "2024-06-24T12:35:52.598912Z",
     "start_time": "2024-06-24T12:35:52.534194Z"
    }
   },
   "outputs": [
    {
     "name": "stdout",
     "output_type": "stream",
     "text": [
      "Reloading Tuner from keras_checkpoints/time_nn/tuner0.json\n"
     ]
    }
   ],
   "source": [
    "tuner = keras_tuner.BayesianOptimization(\n",
    "    hypermodel=build_model,\n",
    "    objective=\"val_loss\",\n",
    "    max_trials=30,\n",
    "    executions_per_trial=1,\n",
    "    overwrite=False,\n",
    "    seed=1,\n",
    "    directory=\"keras_checkpoints\",\n",
    "    project_name=\"time_nn\",\n",
    ")"
   ]
  },
  {
   "cell_type": "code",
   "execution_count": 47,
   "id": "a3f7b26b5738c824",
   "metadata": {
    "ExecuteTime": {
     "end_time": "2024-06-24T12:35:56.770594Z",
     "start_time": "2024-06-24T12:35:56.764386Z"
    }
   },
   "outputs": [],
   "source": [
    "fit_args = dict(\n",
    "    x=i_train,\n",
    "    y=t_train,\n",
    "    validation_data=(i_tune, t_tune),\n",
    "    epochs=10,\n",
    "    callbacks=[\n",
    "        keras.callbacks.EarlyStopping(\n",
    "            patience=1, restore_best_weights=True, monitor=\"val_loss\", mode=\"min\"\n",
    "        )\n",
    "    ],\n",
    "    batch_size=50_000,\n",
    "    verbose=False,\n",
    ")"
   ]
  },
  {
   "cell_type": "code",
   "execution_count": 48,
   "id": "61c6407cc5a6b3c5",
   "metadata": {
    "ExecuteTime": {
     "end_time": "2024-06-24T12:35:57.605428Z",
     "start_time": "2024-06-24T12:35:57.598932Z"
    }
   },
   "outputs": [],
   "source": [
    "tuner.search(**fit_args)"
   ]
  },
  {
   "cell_type": "code",
   "execution_count": 13,
   "id": "initial_id",
   "metadata": {},
   "outputs": [],
   "source": [
    "model = build_model(tuner.get_best_hyperparameters()[0])\n",
    "\n",
    "history = model.fit(**fit_args)\n",
    "model.save(\"../models/model_in_time.keras\")"
   ]
  },
  {
   "cell_type": "code",
   "execution_count": null,
   "id": "730c199179363735",
   "metadata": {},
   "outputs": [],
   "source": [
    "# keras.utils.plot_model(\n",
    "#     model, show_shapes=True, show_layer_activations=True, to_file=\"time.png\"\n",
    "# )"
   ]
  },
  {
   "cell_type": "code",
   "execution_count": 20,
   "id": "565a7b3533b83cf7",
   "metadata": {},
   "outputs": [
    {
     "name": "stdout",
     "output_type": "stream",
     "text": [
      "\u001b[1m8/8\u001b[0m \u001b[32m━━━━━━━━━━━━━━━━━━━━\u001b[0m\u001b[37m\u001b[0m \u001b[1m0s\u001b[0m 20ms/step - loss: 439.1220 - mean_absolute_percentage_error: 915458.6875\n",
      "RMSE: 20.973337595446704\n"
     ]
    }
   ],
   "source": [
    "np.save(data_dir(\"pred/time_mse.npy\"), model(i_test))\n",
    "print(\"RMSE:\", np.sqrt(model.evaluate(x=i_test, y=t_test, batch_size=50_000)[0]))"
   ]
  },
  {
   "cell_type": "code",
   "execution_count": 51,
   "id": "1387c35f06db3a2d",
   "metadata": {
    "ExecuteTime": {
     "end_time": "2024-06-24T12:37:13.897274Z",
     "start_time": "2024-06-24T12:37:13.247972Z"
    }
   },
   "outputs": [
    {
     "name": "stdout",
     "output_type": "stream",
     "text": [
      "\u001b[1m8/8\u001b[0m \u001b[32m━━━━━━━━━━━━━━━━━━━━\u001b[0m\u001b[37m\u001b[0m \u001b[1m0s\u001b[0m 20ms/step - loss: 1776.1830 - mape: 4725832.0000 - mse: 2301.8616\n",
      "RMSE: 47.97337111291534\n"
     ]
    }
   ],
   "source": [
    "# Variant with directly weighted training loss\n",
    "np.save(data_dir(\"pred/time_wgh.npy\"), model(i_test))\n",
    "print(\"RMSE:\", np.sqrt(model.evaluate(x=i_test, y=t_test, batch_size=50_000)[2]))"
   ]
  }
 ],
 "metadata": {
  "kernelspec": {
   "display_name": "Python 3",
   "language": "python",
   "name": "python3"
  },
  "language_info": {
   "codemirror_mode": {
    "name": "ipython",
    "version": 2
   },
   "file_extension": ".py",
   "mimetype": "text/x-python",
   "name": "python",
   "nbconvert_exporter": "python",
   "pygments_lexer": "ipython2",
   "version": "2.7.6"
  }
 },
 "nbformat": 4,
 "nbformat_minor": 5
}
